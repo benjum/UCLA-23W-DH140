{
  "cells": [
    {
      "cell_type": "markdown",
      "id": "d1ae86d5-0721-44cf-a468-2bd2648d27ef",
      "metadata": {},
      "source": "## Let's start with some Python review"
    },
    {
      "cell_type": "markdown",
      "id": "114b9538",
      "metadata": {},
      "source": "As our initial data, we are going to use a phrase from Charles Dickens' \"A Tale of Two Cities\"."
    },
    {
      "cell_type": "code",
      "execution_count": null,
      "id": "040d51d0-32a7-4481-85f1-89c858d5aab0",
      "metadata": {
        "trusted": true
      },
      "outputs": [],
      "source": "sentence = 'It was the best of times, it was the worst of times'"
    },
    {
      "cell_type": "markdown",
      "id": "034975eb",
      "metadata": {},
      "source": "Q: What is this object?\n\nA: A string"
    },
    {
      "cell_type": "markdown",
      "id": "7cf01848",
      "metadata": {},
      "source": "We can double-check the datatype of any variable by using Python's built-in `type` function."
    },
    {
      "cell_type": "code",
      "execution_count": null,
      "id": "65c9d82c-bdef-4e06-b02b-86f5ff1da603",
      "metadata": {
        "trusted": true
      },
      "outputs": [],
      "source": "type(sentence)"
    },
    {
      "cell_type": "markdown",
      "id": "97bbbd5c",
      "metadata": {},
      "source": "`type` is like `print` -- both of them are functions that we can use whenever we want without having to write any additional code."
    },
    {
      "cell_type": "code",
      "execution_count": null,
      "id": "931f753e",
      "metadata": {
        "trusted": true
      },
      "outputs": [],
      "source": "print(sentence)"
    },
    {
      "cell_type": "code",
      "execution_count": null,
      "id": "8367a50c-e145-4398-accf-570c62cce8c5",
      "metadata": {
        "trusted": true
      },
      "outputs": [],
      "source": "type(1)"
    },
    {
      "cell_type": "code",
      "execution_count": null,
      "id": "3f39efd1-2d65-4240-b700-73950d900403",
      "metadata": {
        "trusted": true
      },
      "outputs": [],
      "source": "type(1.5)"
    },
    {
      "cell_type": "markdown",
      "id": "4694d3c9",
      "metadata": {},
      "source": "There are many built-in functions.  In fact, I ask you to use some in the most recent homework assignment, like `len`: https://python.readthedocs.io/en/stable/library/functions.html#len"
    },
    {
      "cell_type": "code",
      "execution_count": null,
      "id": "90565acf-fb06-4ff8-b3dd-064465266e3f",
      "metadata": {
        "trusted": true
      },
      "outputs": [],
      "source": "len(sentence)"
    },
    {
      "cell_type": "markdown",
      "id": "c5d5d445",
      "metadata": {},
      "source": "The page that's linked above is the documentation for Python. This reference manual contains WAY more information than you may want at the moment, but it is comprehensive and authoritative for any given version of Python."
    },
    {
      "cell_type": "markdown",
      "id": "cbcd95cf",
      "metadata": {},
      "source": "Since `sentence` is a string, we can also look at particular characters in the string using indexing and slicing."
    },
    {
      "cell_type": "code",
      "execution_count": null,
      "id": "a491ca97-6980-4ece-9e93-bbe17d003d09",
      "metadata": {
        "trusted": true
      },
      "outputs": [],
      "source": "# retrieves the character at index 0\nsentence[0]"
    },
    {
      "cell_type": "code",
      "execution_count": null,
      "id": "9d7ba53c-02ba-4dfa-92c1-131c839b74dd",
      "metadata": {
        "trusted": true
      },
      "outputs": [],
      "source": "# retrieves the characters starting at index 0 and \n# going up to (but not including) index 5\nsentence[0:5]"
    },
    {
      "cell_type": "markdown",
      "id": "a4c4f2c3",
      "metadata": {},
      "source": "In contrast to built-in functions, strings have functions of their own.  In fact, many variables will have special functions of their own.  These are called methods, and we use `.` after the variable name to denote that what follows is a method specific to the variable.\n\nExample: `str.split()` will split a string up into individual elements"
    },
    {
      "cell_type": "code",
      "execution_count": null,
      "id": "3f433de7-9e8b-41ef-aae1-379d39a4c424",
      "metadata": {
        "trusted": true
      },
      "outputs": [],
      "source": "sentence.split(',')"
    },
    {
      "cell_type": "markdown",
      "id": "32d67216",
      "metadata": {},
      "source": "* `str.split()` will split a string up into individual elements, based on the value between parantheses.\n* https://python.readthedocs.io/en/stable/library/stdtypes.html#str.split\n* No value between parentheses?  Then the method uses a default value.  For `split`, the default is to break a string up based on the location of whitespace."
    },
    {
      "cell_type": "code",
      "execution_count": null,
      "id": "0217ea0b",
      "metadata": {
        "trusted": true
      },
      "outputs": [],
      "source": "sentence.split()"
    },
    {
      "cell_type": "markdown",
      "id": "8c5ac077",
      "metadata": {},
      "source": "## Exercise\n\nLet's try to find the number of times \"times\" occurs in this phrase.\n\nTo do this, we are going to make use of **for** loops, **if** conditional expressions, and **functions**."
    },
    {
      "cell_type": "code",
      "execution_count": null,
      "id": "4aa99f20-7429-46c3-ac96-c9df431e4a54",
      "metadata": {
        "trusted": true
      },
      "outputs": [],
      "source": "sentence"
    },
    {
      "cell_type": "code",
      "execution_count": null,
      "id": "b5f3108f",
      "metadata": {
        "scrolled": false,
        "trusted": true
      },
      "outputs": [],
      "source": "# how to count the number of times a word occurs?\n# start building this gradually:\n\nfor word in sentence:\n    print(word)"
    },
    {
      "cell_type": "markdown",
      "id": "e20cc0c7",
      "metadata": {},
      "source": "What happened?"
    },
    {
      "cell_type": "code",
      "execution_count": null,
      "id": "451d4f4f",
      "metadata": {
        "trusted": true
      },
      "outputs": [],
      "source": "sentence.split()"
    },
    {
      "cell_type": "code",
      "execution_count": null,
      "id": "972f9fa1",
      "metadata": {
        "trusted": true
      },
      "outputs": [],
      "source": "words = sentence.split()"
    },
    {
      "cell_type": "code",
      "execution_count": null,
      "id": "385143f0",
      "metadata": {
        "trusted": true
      },
      "outputs": [],
      "source": "words"
    },
    {
      "cell_type": "code",
      "execution_count": null,
      "id": "16d19954",
      "metadata": {
        "trusted": true
      },
      "outputs": [],
      "source": "# how to count the number of times a word occurs?\n\n#for word in sentence:\nfor word in words:\n    print(word)"
    },
    {
      "cell_type": "code",
      "execution_count": null,
      "id": "6c408e45",
      "metadata": {
        "trusted": true
      },
      "outputs": [],
      "source": "# how to count the number of times a word occurs?\n\n#for word in sentence:\nfor word in words:\n    if word == 'times':\n        print('yay! I found \"times\"')"
    },
    {
      "cell_type": "code",
      "execution_count": null,
      "id": "6056df2c",
      "metadata": {
        "trusted": true
      },
      "outputs": [],
      "source": "# how to count the number of times a word occurs?\n\ntimescount = 0\nfor word in words:\n    if word == 'times':\n        print('yay! I found \"times\"')\n        timescount = timescount + 1\n        print('I have now found it ' + timescount + ' times.')"
    },
    {
      "cell_type": "markdown",
      "id": "89bf50e6",
      "metadata": {},
      "source": "How do we make sense of error messages?"
    },
    {
      "cell_type": "code",
      "execution_count": null,
      "id": "1dd9a632",
      "metadata": {
        "trusted": true
      },
      "outputs": [],
      "source": "# how to count the number of times a word occurs?\n\ntimescount = 0\nfor word in words:\n    if word == 'times':\n        print('yay! I found \"times\"')\n        timescount = timescount + 1\n        print('I have now found it ' + str(timescount) + ' times.')"
    },
    {
      "cell_type": "markdown",
      "id": "a7f99961",
      "metadata": {},
      "source": "Why not 2?"
    },
    {
      "cell_type": "code",
      "execution_count": null,
      "id": "84e9a458",
      "metadata": {
        "trusted": true
      },
      "outputs": [],
      "source": "# how to count the number of times a word occurs?\n\ntimescount = 0\nfor word in words:\n    \n    # new line\n    print('yay! I found ' + word)\n    # also note the use of space and comments\n    # and the extension of the block of code across many lines\n    \n    if word == 'times':\n        print('yay! I found \"times\"')\n        timescount = timescount + 1\n        print('I have now found it ' + str(timescount) + ' times.')"
    },
    {
      "cell_type": "code",
      "execution_count": null,
      "id": "211b30f6",
      "metadata": {
        "trusted": true
      },
      "outputs": [],
      "source": "specialchar = ','\n\n# remove each character in the specialchars string\n# \"replace\" is a string method that replaces the first argument with the second argument\n\n# fails because replace is for strings not lists\n# remember that functions and methods are particular to the type of data they operate on\n# words.replace(',', '')\n\n# fails because you are changing the value of the iteration variable\n# but not the list itself\n# for word in words:\n    \n#     print(word,words)\n    \n#     if ',' in word:\n#         word = word.replace(',', '')\n    \n#     print(word,words)\n\n# success because we operate on the initial string and only then break it up into words\n# sentence.replace(',', '')\n# n = sentence.replace(',', '')\n# n.split()\n# we can chain these together because the output of \"sentence.replace(',', '')\" is itself a string\n# on which we can use \".split()\"\n# sentence.replace(',', '').split()\n# and now:\nwords = sentence.replace(',', '').split()"
    },
    {
      "cell_type": "code",
      "execution_count": null,
      "id": "9c034721",
      "metadata": {
        "trusted": true
      },
      "outputs": [],
      "source": "words"
    },
    {
      "cell_type": "code",
      "execution_count": null,
      "id": "b10095f4",
      "metadata": {
        "trusted": true
      },
      "outputs": [],
      "source": "# how to count the number of times a word occurs?\n\ntimescount = 0\nfor word in words:\n    \n    # new line\n    print('yay! I found ' + word)\n    # also note the use of space and comments\n    # and the extension of the block of code across many lines\n    \n    if word == 'times':\n        print('yay! I found \"times\"')\n        timescount = timescount + 1\n        print('I have now found it ' + str(timescount) + ' times.')"
    },
    {
      "cell_type": "code",
      "execution_count": null,
      "id": "a288e407",
      "metadata": {
        "trusted": true
      },
      "outputs": [],
      "source": "# how to count the number of times a word occurs?\n\ntimescount = 0\nfor word in words:\n    \n    # new line\n    print('yay! I found ' + word)\n    # also note the use of space and comments\n    # and the extension of the block of code across many lines\n    \n    if word == 'times':\n        print('yay! I found \"times\"')\n        timescount = timescount + 1\n        print('I have now found it ' + str(timescount) + ' times.')\n        \nprint('\"times\" occurs ' + str(timescount) + ' times.')"
    },
    {
      "cell_type": "markdown",
      "id": "ab4c08a5",
      "metadata": {},
      "source": "it can be useful to have this **function**ality for every word."
    },
    {
      "cell_type": "code",
      "execution_count": null,
      "id": "c8bcd72d",
      "metadata": {
        "trusted": true
      },
      "outputs": [],
      "source": "# write the function and generalize it so that \"times\" is now a variable `wordtofindvar`\n\ndef wordcount(listofwordsvar, wordtofindvar):\n\n    timescount = 0\n    for word in listofwordsvar:\n    \n        # new line\n        print('yay! I found ' + word)\n        # also note the use of space and comments\n        # and the extension of the block of code across many lines\n\n        if word == wordtofindvar:\n            print('yay! I found ' + word)\n            timescount = timescount + 1\n            print('I have now found it ' + str(timescount) + ' times.')\n\n    print(word + ' occurs ' + str(timescount) + ' times.')"
    },
    {
      "cell_type": "code",
      "execution_count": null,
      "id": "b7f30afd",
      "metadata": {
        "trusted": true
      },
      "outputs": [],
      "source": "wordcount(words, 'it')"
    },
    {
      "cell_type": "markdown",
      "id": "e84a5a5c",
      "metadata": {},
      "source": "Something else to snag us:  Capitalization!\n* to be addressed later"
    },
    {
      "cell_type": "code",
      "execution_count": null,
      "id": "4735ff9b",
      "metadata": {
        "trusted": true
      },
      "outputs": [],
      "source": "wordcount(words, 'times')"
    },
    {
      "cell_type": "code",
      "execution_count": null,
      "id": "2652e469",
      "metadata": {
        "trusted": true
      },
      "outputs": [],
      "source": "# one more thing:  return value\n\ndef wordcount(listofwordsvar, wordtofindvar):\n\n    timescount = 0\n    for word in listofwordsvar:\n    \n        # new line\n        # print('yay! I found ' + word)\n        # also note the use of space and comments\n        # and the extension of the block of code across many lines\n\n        if word == wordtofindvar:\n            # print('yay! I found ' + word)\n            timescount = timescount + 1\n            # print('I have now found it ' + str(timescount) + ' times.')\n\n    # print(word + ' occurs ' + str(timescount) + ' times.')\n    return timescount"
    },
    {
      "cell_type": "code",
      "execution_count": null,
      "id": "14364fb4",
      "metadata": {
        "trusted": true
      },
      "outputs": [],
      "source": "wordcount(words, 'times')"
    },
    {
      "cell_type": "code",
      "execution_count": null,
      "id": "8a72da0f",
      "metadata": {
        "trusted": true
      },
      "outputs": [],
      "source": "n = wordcount(words, 'times')"
    },
    {
      "cell_type": "code",
      "execution_count": null,
      "id": "3b06fea8",
      "metadata": {
        "trusted": true
      },
      "outputs": [],
      "source": "print('times occurs ' + str(n) + ' times.')"
    },
    {
      "cell_type": "markdown",
      "id": "25621ced",
      "metadata": {},
      "source": "# Exercise time"
    }
  ],
  "metadata": {
    "kernelspec": {
      "display_name": "Python 3 (ipykernel)",
      "language": "python",
      "name": "python3"
    },
    "language_info": {
      "codemirror_mode": {
        "name": "ipython",
        "version": 3
      },
      "file_extension": ".py",
      "mimetype": "text/x-python",
      "name": "python",
      "nbconvert_exporter": "python",
      "pygments_lexer": "ipython3",
      "version": "3.10.8"
    }
  },
  "nbformat": 4,
  "nbformat_minor": 5
}