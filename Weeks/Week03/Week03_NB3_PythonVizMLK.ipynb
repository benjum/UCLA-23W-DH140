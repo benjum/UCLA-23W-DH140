{
  "cells": [
    {
      "attachments": {
        "ea26706d-ace5-4b14-b029-40cb5f0a291c.png": {
          "image/png": "[encoded data removed]"
        }
      },
      "cell_type": "markdown",
      "id": "2a668ef8-342f-4944-a596-2ed09c8e5d08",
      "metadata": {},
      "source": "![image.png](attachment:ea26706d-ace5-4b14-b029-40cb5f0a291c.png)"
    },
    {
      "cell_type": "markdown",
      "id": "d1ae86d5-0721-44cf-a468-2bd2648d27ef",
      "metadata": {},
      "source": "## First, a recap"
    },
    {
      "cell_type": "code",
      "execution_count": null,
      "id": "6793bd4d-b0d5-46aa-a6a2-e7573fa71abb",
      "metadata": {
        "trusted": true
      },
      "outputs": [],
      "source": "# Execute this cell\n\nspeech = \"Five score years ago, a great American, in whose symbolic shadow we stand today, signed the Emancipation Proclamation. This momentous decree came as a great beacon light of hope to millions of Negro slaves who had been seared in the flames of withering injustice. It came as a joyous daybreak to end the long night of their captivity. But 100 years later, the Negro still is not free. One hundred years later, the life of the Negro is still sadly crippled by the manacles of segregation and the chains of discrimination. One hundred years later, the Negro lives on a lonely island of poverty in the midst of a vast ocean of material prosperity. One hundred years later the Negro is still languished in the corners of American society and finds himself in exile in his own land. And so we've come here today to dramatize a shameful condition. In a sense we've come to our nation's capital to cash a check. When the architects of our republic wrote the magnificent words of the Constitution and the Declaration of Independence, they were signing a promissory note to which every American was to fall heir. This note was a promise that all men - yes, Black men as well as white men - would be guaranteed the unalienable rights of life, liberty and the pursuit of happiness. It is obvious today that America has defaulted on this promissory note insofar as her citizens of color are concerned. Instead of honoring this sacred obligation, America has given the Negro people a bad check, a check which has come back marked insufficient funds. But we refuse to believe that the bank of justice is bankrupt. We refuse to believe that there are insufficient funds in the great vaults of opportunity of this nation. And so we've come to cash this check, a check that will give us upon demand the riches of freedom and the security of justice. We have also come to his hallowed spot to remind America of the fierce urgency of now. This is no time to engage in the luxury of cooling off or to take the tranquilizing drug of gradualism. Now is the time to make real the promises of democracy. Now is the time to rise from the dark and desolate valley of segregation to the sunlit path of racial justice. Now is the time to lift our nation from the quick sands of racial injustice to the solid rock of brotherhood. Now is the time to make justice a reality for all of God's children. It would be fatal for the nation to overlook the urgency of the moment. This sweltering summer of the Negro's legitimate discontent will not pass until there is an invigorating autumn of freedom and equality. 1963 is not an end, but a beginning. Those who hope that the Negro needed to blow off steam and will now be content will have a rude awakening if the nation returns to business as usual. There will be neither rest nor tranquility in America until the Negro is granted his citizenship rights. The whirlwinds of revolt will continue to shake the foundations of our nation until the bright day of justice emerges. But there is something that I must say to my people who stand on the warm threshold which leads into the palace of justice. In the process of gaining our rightful place, we must not be guilty of wrongful deeds. Let us not seek to satisfy our thirst for freedom by drinking from the cup of bitterness and hatred. We must forever conduct our struggle on the high plane of dignity and discipline. We must not allow our creative protest to degenerate into physical violence. Again and again, we must rise to the majestic heights of meeting physical force with soul force. The marvelous new militancy which has engulfed the Negro community must not lead us to a distrust of all white people, for many of our white brothers, as evidenced by their presence here today, have come to realize that their destiny is tied up with our destiny. And they have come to realize that their freedom is inextricably bound to our freedom. We cannot walk alone. And as we walk, we must make the pledge that we shall always march ahead. We cannot turn back. There are those who are asking the devotees of civil rights, when will you be satisfied? We can never be satisfied as long as the Negro is the victim of the unspeakable horrors of police brutality. We can never be satisfied as long as our bodies, heavy with the fatigue of travel, cannot gain lodging in the motels of the highways and the hotels of the cities. We cannot be satisfied as long as the Negro's basic mobility is from a smaller ghetto to a larger one. We can never be satisfied as long as our children are stripped of their selfhood and robbed of their dignity by signs stating: for whites only. We cannot be satisfied as long as a Negro in Mississippi cannot vote and a Negro in New York believes he has nothing for which to vote. No, no, we are not satisfied, and we will not be satisfied until justice rolls down like waters, and righteousness like a mighty stream. I am not unmindful that some of you have come here out of great trials and tribulations. Some of you have come fresh from narrow jail cells. Some of you have come from areas where your quest for freedom left you battered by the storms of persecution and staggered by the winds of police brutality. You have been the veterans of creative suffering. Continue to work with the faith that unearned suffering is redemptive. Go back to Mississippi, go back to Alabama, go back to South Carolina, go back to Georgia, go back to Louisiana, go back to the slums and ghettos of our Northern cities, knowing that somehow this situation can and will be changed. Let us not wallow in the valley of despair, I say to you today, my friends. So even though we face the difficulties of today and tomorrow, I still have a dream. It is a dream deeply rooted in the American dream. I have a dream that one day this nation will rise up and live out the true meaning of its creed: We hold these truths to be self-evident, that all men are created equal. I have a dream that one day on the red hills of Georgia, the sons of former slaves and the sons of former slave owners will be able to sit down together at the table of brotherhood. I have a dream that one day even the state of Mississippi, a state sweltering with the heat of injustice, sweltering with the heat of oppression will be transformed into an oasis of freedom and justice. I have a dream that my four little children will one day live in a nation where they will not be judged by the color of their skin but by the content of their character. I have a dream today. I have a dream that one day down in Alabama with its vicious racists, with its governor having his lips dripping with the words of interposition and nullification, one day right down in Alabama little Black boys and Black girls will be able to join hands with little white boys and white girls as sisters and brothers. I have a dream today. I have a dream that one day every valley shall be exalted, every hill and mountain shall be made low, the rough places will be made plain, and the crooked places will be made straight, and the glory of the Lord shall be revealed, and all flesh shall see it together. This is our hope. This is the faith that I go back to the South with. With this faith, we will be able to hew out of the mountain of despair a stone of hope. With this faith we will be able to transform the jangling discords of our nation into a beautiful symphony of brotherhood. With this faith we will be able to work together, to pray together, to struggle together, to go to jail together, to stand up for freedom together, knowing that we will be free one day. This will be the day when all of God's children will be able to sing with new meaning: My country, 'tis of thee, sweet land of liberty, of thee I sing. Land where my fathers died, land of the pilgrims' pride, from every mountainside, let freedom ring. And if America is to be a great nation, this must become true. And so let freedom ring from the prodigious hilltops of New Hampshire. Let freedom ring from the mighty mountains of New York. Let freedom ring from the heightening Alleghenies of Pennsylvania. Let freedom ring from the snowcapped Rockies of Colorado. Let freedom ring from the curvaceous slopes of California. But not only that, let freedom ring from Stone Mountain of Georgia. Let freedom ring from Lookout Mountain of Tennessee. Let freedom ring from every hill and molehill of Mississippi. From every mountainside, let freedom ring. And when this happens, and when we allow freedom ring, when we let it ring from every village and every hamlet, from every state and every city, we will be able to speed up that day when all of God's children, Black men and white men, Jews and Gentiles, Protestants and Catholics, will be able to join hands and sing in the words of the old Negro spiritual: Free at last. Free at last. Thank God almighty, we are free at last.\""
    },
    {
      "cell_type": "markdown",
      "id": "4b63ff75",
      "metadata": {},
      "source": "`speech` is now a variable whose value is now the text of Martin Luther King Jr.'s \"I Have A Dream\" speech."
    },
    {
      "cell_type": "code",
      "execution_count": null,
      "id": "7c9be6d1-6471-475d-bf4d-674049ce0198",
      "metadata": {
        "scrolled": true,
        "tags": [],
        "trusted": true
      },
      "outputs": [],
      "source": "speech"
    },
    {
      "cell_type": "markdown",
      "id": "8fb5684a",
      "metadata": {},
      "source": "We'll look at item #4 from the previous exercises:  write a for loop that prints out every sentence in the speech that starts with \"I have a dream\"."
    },
    {
      "cell_type": "markdown",
      "id": "9884ba72",
      "metadata": {},
      "source": "We can use another string method called `index()` to get the index at which a particular character or substring starts."
    },
    {
      "cell_type": "code",
      "execution_count": null,
      "id": "76d60f7f-1065-4f0d-b09b-b077f05c7d0c",
      "metadata": {
        "trusted": true
      },
      "outputs": [],
      "source": "speech.index('I have a dream')"
    },
    {
      "cell_type": "code",
      "execution_count": null,
      "id": "d349b7a5-7018-4a1b-8f61-8dce52813921",
      "metadata": {
        "trusted": true
      },
      "outputs": [],
      "source": "speech[5768:5768+34]"
    },
    {
      "cell_type": "markdown",
      "id": "58bd38da",
      "metadata": {},
      "source": "We actually want the indices of every occurrence of this phrase in the speech.\n\nUseful aside:  rather than consulting the online documentation, you can also take advantage of documentation attached to the variable."
    },
    {
      "cell_type": "code",
      "execution_count": null,
      "id": "0a500b14-2637-4027-918c-89a3ae83be30",
      "metadata": {
        "scrolled": true,
        "trusted": true
      },
      "outputs": [],
      "source": "# 'dir' will give you a list of all the methods associated with a variable\ndir(speech)"
    },
    {
      "cell_type": "code",
      "execution_count": null,
      "id": "ab98fc42-e8ef-4ea4-afbd-366c6f2da90d",
      "metadata": {
        "trusted": true
      },
      "outputs": [],
      "source": "# if one looks interesting, you can use 'help' to retrieve any documentation\n# associated with that method\nhelp(speech.count)"
    },
    {
      "cell_type": "code",
      "execution_count": null,
      "id": "13840dc2-453a-4c37-b9f7-204e00588d58",
      "metadata": {
        "trusted": true
      },
      "outputs": [],
      "source": "speech.count('I have a dream')"
    },
    {
      "cell_type": "code",
      "execution_count": null,
      "id": "bf53c7eb-1932-414a-948b-f1bc34fc3ff6",
      "metadata": {
        "trusted": true
      },
      "outputs": [],
      "source": "help(speech.index)"
    },
    {
      "cell_type": "markdown",
      "id": "8cbcceb2",
      "metadata": {},
      "source": "The above tells us that we can give a 2nd argument to `index()` that will start searching from a non-zero index."
    },
    {
      "cell_type": "code",
      "execution_count": null,
      "id": "c2995e41-ac5b-4c90-a4b7-d7ffca350b79",
      "metadata": {
        "trusted": true
      },
      "outputs": [],
      "source": "speech.index('I have a dream',0)"
    },
    {
      "cell_type": "code",
      "execution_count": null,
      "id": "cd6cb570-3623-4f45-b827-3fb081c20ff0",
      "metadata": {
        "trusted": true
      },
      "outputs": [],
      "source": "speech.index('I have a dream',5768+1)"
    },
    {
      "cell_type": "code",
      "execution_count": null,
      "id": "a5abdffc-7a01-4888-a388-675679b7de0f",
      "metadata": {
        "trusted": true
      },
      "outputs": [],
      "source": "dreamstring = 'I have a dream'\nnumdreams = speech.count(dreamstring)\nstartindex = 0\n\nfor i in range(numdreams):\n\n    # find where 'I have a dream starts'\n    startindex = speech.index('I have a dream',startindex)\n    \n    # find the end of the sentence after the phrase\n    endindex = speech.index('.',startindex)\n    \n    print(speech[startindex:endindex+1] + '\\n')\n    \n    # we reset startindex so that the next time through the loop,\n    # we find the next occurrence of the phrase\n    startindex = endindex"
    },
    {
      "cell_type": "markdown",
      "id": "08d706a8-962a-4ba1-b779-11f9a2e8a848",
      "metadata": {},
      "source": "## Finding and _plotting_ the number of times each word occurs"
    },
    {
      "cell_type": "markdown",
      "id": "da44b629-10c6-4a2a-81d3-6b6bd2ff605c",
      "metadata": {},
      "source": "We should get rid of the punctuation.  (We don't want to count \"dream\" and \"dream,\" as two different strings)"
    },
    {
      "cell_type": "code",
      "execution_count": null,
      "id": "9d1b9043-d4b5-4486-a718-144ab38e3aed",
      "metadata": {
        "trusted": true
      },
      "outputs": [],
      "source": "specialchars = '.,-!:'\n\n# remove each character in the specialchars string\n# \"replace\" is a string method that replaces the first argument with the second argument\n\nfor c in specialchars:\n    speech = speech.replace(c,' ')"
    },
    {
      "cell_type": "markdown",
      "id": "71f35e65-3cbf-4e81-b2a0-2b660e3d38f5",
      "metadata": {},
      "source": "Just to be safe, we'll also make everything lower case, so that \"Dream\" and \"dream\" count as the same word for counting purposes."
    },
    {
      "cell_type": "code",
      "execution_count": null,
      "id": "5657a7f7-d64e-4607-abff-5703077599e9",
      "metadata": {
        "trusted": true
      },
      "outputs": [],
      "source": "speech = speech.lower()"
    },
    {
      "cell_type": "markdown",
      "id": "c6ea89a6-0e85-4b76-959f-85c124f99d45",
      "metadata": {},
      "source": "We now create a dictionary, and for each word, we start counting the number of times it occurs.\n\nThe dictionary `speechwordcount` has all the words as keys, and for each word, the value is the number of times it occurs."
    },
    {
      "cell_type": "code",
      "execution_count": null,
      "id": "452526e6-0708-4e7e-a3e2-5c9e5a84b2d6",
      "metadata": {
        "trusted": true
      },
      "outputs": [],
      "source": "speechwordcount = {}\nspeechwords = speech.split(' ')\nfor c in speechwords:\n    if c in speechwordcount.keys():\n        speechwordcount[c] += 1\n    else:\n        speechwordcount[c] = 1"
    },
    {
      "cell_type": "code",
      "execution_count": null,
      "id": "2d44a491-7877-44bd-a5da-bd4a6066bc13",
      "metadata": {
        "tags": [],
        "trusted": true
      },
      "outputs": [],
      "source": "speechwordcount"
    },
    {
      "cell_type": "markdown",
      "id": "b4fd0f7b-ac06-485b-b737-da453bcbe984",
      "metadata": {},
      "source": "We want to see which words occur most frequently."
    },
    {
      "cell_type": "code",
      "execution_count": null,
      "id": "5e1f6e98-5a3f-4825-b103-04f8f60dbb51",
      "metadata": {
        "tags": [],
        "trusted": true
      },
      "outputs": [],
      "source": "sorted(speechwordcount)"
    },
    {
      "cell_type": "markdown",
      "id": "a8be5caa-2456-4ed1-b6e1-4df167b7c699",
      "metadata": {},
      "source": "That didn't do the trick.  It sorted the keys alphabetically....\n\nThe below cell shows how to sort by values, but don't worry about the specifics for the moment.  This is only to generate the data so we can plot it."
    },
    {
      "cell_type": "code",
      "execution_count": null,
      "id": "de82d085",
      "metadata": {
        "trusted": true
      },
      "outputs": [],
      "source": "sorted_values = sorted(speechwordcount.values(), reverse=True) # Sort the values\nsortspeechcount = {}\n\nfor i in sorted_values:\n    for k in speechwordcount.keys():\n        if speechwordcount[k] == i:\n            sortspeechcount[k] = speechwordcount[k]\n\nprint(sortspeechcount)"
    },
    {
      "cell_type": "markdown",
      "id": "e17f559e-8f2b-4dc7-9a2d-c3cb2f572725",
      "metadata": {},
      "source": "## Now let's jump into some plotting with matplotlib!"
    },
    {
      "cell_type": "markdown",
      "id": "f7ad6090",
      "metadata": {},
      "source": "Matplotlib is one of the primary data visualization libraries in Python.\n\nWe are only going to briefly look at it here, and will revisit matplotlib several times."
    },
    {
      "cell_type": "code",
      "execution_count": null,
      "id": "c51ff932",
      "metadata": {
        "trusted": true
      },
      "outputs": [],
      "source": "import matplotlib.pyplot as plt"
    },
    {
      "cell_type": "code",
      "execution_count": null,
      "id": "a7ef09c6",
      "metadata": {
        "trusted": true
      },
      "outputs": [],
      "source": "x = [1, 2, 3, 4]\ny = [10, 11, 12, 13]"
    },
    {
      "cell_type": "code",
      "execution_count": null,
      "id": "205b6a09",
      "metadata": {
        "trusted": true
      },
      "outputs": [],
      "source": "plt.plot(x,y)"
    },
    {
      "cell_type": "code",
      "execution_count": null,
      "id": "631710b5",
      "metadata": {
        "trusted": true
      },
      "outputs": [],
      "source": "plt.plot(x,y,'o')"
    },
    {
      "cell_type": "code",
      "execution_count": null,
      "id": "207473bb",
      "metadata": {
        "trusted": true
      },
      "outputs": [],
      "source": "plt.bar(x,y)"
    },
    {
      "cell_type": "code",
      "execution_count": null,
      "id": "b8c867c5",
      "metadata": {
        "trusted": true
      },
      "outputs": [],
      "source": "plt.bar(x,y,color='r')"
    },
    {
      "cell_type": "markdown",
      "id": "1bda5798",
      "metadata": {},
      "source": "Matplotlib is a very powerful library, and there are actually two main ways to create plots:\n1. Use matplotlib.pyplot (which here is aliased as plt) -- this is the higher-level and easier to use module\n2. Use figure and axes objects (objects in the object-oriented programming sense) to manipulate the graphical object you see\n\nWe're using #1 for the moment."
    },
    {
      "cell_type": "markdown",
      "id": "95d744c4",
      "metadata": {},
      "source": "**Goal** Make a bar plot of word frequencies for the most frequent words in the speech."
    },
    {
      "cell_type": "code",
      "execution_count": null,
      "id": "7114037f-07fa-4f27-ac98-b84c854c96a8",
      "metadata": {
        "trusted": true
      },
      "outputs": [],
      "source": "countvals = sortspeechcount.values()"
    },
    {
      "cell_type": "code",
      "execution_count": null,
      "id": "e50d1556-abf2-4723-a85d-ba96e43754ee",
      "metadata": {
        "trusted": true
      },
      "outputs": [],
      "source": "print(countvals)"
    },
    {
      "cell_type": "code",
      "execution_count": null,
      "id": "ae6ff003-18c1-462c-8890-91fa5d1e995c",
      "metadata": {
        "trusted": true
      },
      "outputs": [],
      "source": "plt.plot(countvals)"
    },
    {
      "cell_type": "code",
      "execution_count": null,
      "id": "e62f83ce-5867-44c7-ab27-4e95a5185775",
      "metadata": {
        "trusted": true
      },
      "outputs": [],
      "source": "# This will give an error!\nplt.plot(countvals[6:])"
    },
    {
      "cell_type": "markdown",
      "id": "1de1af0b-2209-436f-b8a1-b906f7dc71c2",
      "metadata": {},
      "source": "Recall that we have to be careful when indexing data related to dictionaries."
    },
    {
      "cell_type": "markdown",
      "id": "2b74741e-7552-4cc8-ad91-1345aad4f2a5",
      "metadata": {},
      "source": "We can explicitly \"cast\" some variables as the type we want, when it's a valid operation"
    },
    {
      "cell_type": "code",
      "execution_count": null,
      "id": "2950bdf0-5b88-4f5d-bb87-78949bbab729",
      "metadata": {
        "trusted": true
      },
      "outputs": [],
      "source": "type(countvals)"
    },
    {
      "cell_type": "code",
      "execution_count": null,
      "id": "7db5eb28-ada8-41d3-a703-a5d2d658510a",
      "metadata": {
        "trusted": true
      },
      "outputs": [],
      "source": "countvalslist = list(countvals)"
    },
    {
      "cell_type": "code",
      "execution_count": null,
      "id": "ce07aeed-636f-4656-b5c2-6a6f3fbf6806",
      "metadata": {
        "trusted": true
      },
      "outputs": [],
      "source": "type(countvalslist)"
    },
    {
      "cell_type": "code",
      "execution_count": null,
      "id": "3dcd8420-e631-46d8-bb83-9ee7c23166b0",
      "metadata": {
        "trusted": true
      },
      "outputs": [],
      "source": "plt.plot(countvalslist[6:])"
    },
    {
      "cell_type": "markdown",
      "id": "d0793dac-0b43-4d56-9b47-819f14e2c892",
      "metadata": {},
      "source": "We can numerically index a list -- let's do it for both words and word counts."
    },
    {
      "cell_type": "code",
      "execution_count": null,
      "id": "464f9fa9-f2aa-491a-a594-754857814d10",
      "metadata": {
        "trusted": true
      },
      "outputs": [],
      "source": "frequentwords = list(sortspeechcount.keys())[6:31]\nfrequentvals = list(sortspeechcount.values())[6:31]"
    },
    {
      "cell_type": "code",
      "execution_count": null,
      "id": "708d9b36-23a8-47f5-9442-26f62f1d85d7",
      "metadata": {
        "trusted": true
      },
      "outputs": [],
      "source": "plt.plot(frequentwords,frequentvals)"
    },
    {
      "cell_type": "code",
      "execution_count": null,
      "id": "cdf01b27-4a38-4abf-9dca-278e3da489e9",
      "metadata": {
        "trusted": true
      },
      "outputs": [],
      "source": "plt.figure(figsize=(12,5))\nplt.plot(frequentwords,frequentvals)"
    },
    {
      "cell_type": "code",
      "execution_count": null,
      "id": "87729e4b-891e-4d27-9874-63aadc125660",
      "metadata": {
        "trusted": true
      },
      "outputs": [],
      "source": "plt.figure(figsize=(12,5))\nplt.bar(frequentwords,frequentvals)"
    },
    {
      "cell_type": "code",
      "execution_count": null,
      "id": "2261f2d1-c9c6-4e3b-8051-8cfd13a53522",
      "metadata": {
        "trusted": true
      },
      "outputs": [],
      "source": "plt.figure(figsize=(12,5))\nplt.barh(frequentwords,frequentvals)"
    },
    {
      "cell_type": "code",
      "execution_count": null,
      "id": "c7127c89-6ad5-4806-8a9d-6c37690e0686",
      "metadata": {
        "trusted": true
      },
      "outputs": [],
      "source": "barcolors = []\nfor i in frequentwords:\n    # could be:\n    # if i == 'i' or i == 'have' or i == 'dream'\n    # or could be:\n    if i in ['i','have','a','dream']:\n        barcolors.append('blue')\n    else:\n        barcolors.append('grey')\nbarcolors"
    },
    {
      "cell_type": "code",
      "execution_count": null,
      "id": "8ee0e11f-cffc-41bf-b062-e67fdd02b8f1",
      "metadata": {
        "trusted": true
      },
      "outputs": [],
      "source": "plt.figure(figsize=(12,5))\nplt.barh(frequentwords,frequentvals,color=barcolors)"
    },
    {
      "cell_type": "code",
      "execution_count": null,
      "id": "3d3d0308-61f1-44e9-b680-a443447a5ea6",
      "metadata": {
        "trusted": true
      },
      "outputs": [],
      "source": "plt.figure(figsize=(12,5))\nplt.barh(frequentwords,frequentvals,color=barcolors)\nplt.xlim([10.8,15])"
    },
    {
      "cell_type": "code",
      "execution_count": null,
      "id": "4ef4450a-ec50-4040-9eef-34e06fba2263",
      "metadata": {
        "trusted": true
      },
      "outputs": [],
      "source": "plt.figure(figsize=(12,5))\nplt.barh(frequentwords,frequentvals,color=barcolors)\nplt.xlim([10.8,15])\nplt.text(12,\n         20,\n         '\"I\" is said 20 times more frequently than \"dream\"!!!.... wait... what???',\n         fontsize=13);"
    },
    {
      "cell_type": "code",
      "execution_count": null,
      "id": "83269a5e-3912-4446-979a-cd3f056d6946",
      "metadata": {
        "trusted": true
      },
      "outputs": [],
      "source": "plt.figure(figsize=(12,5))\nplt.pie(frequentvals, labels = frequentwords);"
    }
  ],
  "metadata": {
    "kernelspec": {
      "display_name": "Python 3 (ipykernel)",
      "language": "python",
      "name": "python3"
    },
    "language_info": {
      "codemirror_mode": {
        "name": "ipython",
        "version": 3
      },
      "file_extension": ".py",
      "mimetype": "text/x-python",
      "name": "python",
      "nbconvert_exporter": "python",
      "pygments_lexer": "ipython3",
      "version": "3.10.8"
    }
  },
  "nbformat": 4,
  "nbformat_minor": 5
}