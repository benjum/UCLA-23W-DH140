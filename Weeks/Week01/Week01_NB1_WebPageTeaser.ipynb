{
  "cells": [
    {
      "cell_type": "markdown",
      "id": "4ee9d6e3",
      "metadata": {},
      "source": "# Web pages and Jupyter notebooks"
    },
    {
      "cell_type": "markdown",
      "id": "105a8977",
      "metadata": {},
      "source": "The web page that you are viewing here is interactive!"
    },
    {
      "cell_type": "markdown",
      "id": "816715fa",
      "metadata": {},
      "source": "Select **this text** by clicking on it -> you should see a rectangle appear around this line and the lines below it.\n\nThe area inside this rectangle is a \"cell\".  Specifically, it's a cell in which you can write and visualize text written in a format called \"markdown\".  You can write text in these, and when you execute the cell, the text will get converted into something that looks like a small piece of a web page.\n\nWhile this cell is selected, click in the \"+\" icon in the icon menu above.  \n* This will make a new cell below this one.\n* The bounding rectangle showing cell selection will move to the new cell.\n\nChange the new cell to \"markdown\" and render your new web page text by:\n* Going up to the icon menu, and changing the \"Code\" in the dropdown menu to be \"Markdown\"\n  * Note that the new cell must still be selected while you do this.\n* Type the Enter key, and you'll get a cursor in that cell\n  * Or you can also click inside the cell to get your cursor in it\n* Paste the text of your web page code into the markdown cell, and execute the cell by clicking the \"Run\" button in the top icon menu\n  * This will cause the markdown cell to turn into your web page text"
    },
    {
      "cell_type": "markdown",
      "id": "ed5a1544",
      "metadata": {},
      "source": "# Use a code cell to make a web page"
    },
    {
      "cell_type": "markdown",
      "id": "03f7b3a7",
      "metadata": {},
      "source": "There is another cell below that has the line \"%%HTML\" in it.\n\nEnter the text lines of your web page code in the cell below the \"%%HTML\" line:\n* click in the interior of the cell so you get a blinking cursor\n* type or paste your lines underneath the \"%%HTML\"\n\nExecute the cell using one of the following:\n* typing Shift+Enter\n* clicking on the \"Run\" icon in the icon menu above\n* selecting Cell -> Run Cells from the top menu\n\nAfter you've gotten it to work, make changes to the text and visualize the new results, trying each of the execute options as you do so."
    },
    {
      "cell_type": "code",
      "execution_count": null,
      "id": "21df24fb",
      "metadata": {
        "trusted": true
      },
      "outputs": [],
      "source": "%%HTML\n\n"
    },
    {
      "cell_type": "markdown",
      "id": "9dd695e6",
      "metadata": {},
      "source": "# Markdown"
    },
    {
      "cell_type": "markdown",
      "id": "bcad2bd2",
      "metadata": {},
      "source": "HTML and Markdown are not the same thing (but you can render a lot of HTML code here in these notebook cells).\n\nMarkdown is intended to be very easy to write, it has simple syntax, and we will be encountering it a lot here in these notebooks."
    },
    {
      "cell_type": "markdown",
      "id": "a42ce8ae",
      "metadata": {},
      "source": "Reference for Markdown basics:\n* https://github.com/adam-p/markdown-here/wiki/Markdown-Cheatsheet"
    }
  ],
  "metadata": {
    "kernelspec": {
      "display_name": "Python 3 (ipykernel)",
      "language": "python",
      "name": "python3"
    },
    "language_info": {
      "codemirror_mode": {
        "name": "ipython",
        "version": 3
      },
      "file_extension": ".py",
      "mimetype": "text/x-python",
      "name": "python",
      "nbconvert_exporter": "python",
      "pygments_lexer": "ipython3",
      "version": "3.8.6"
    }
  },
  "nbformat": 4,
  "nbformat_minor": 5
}