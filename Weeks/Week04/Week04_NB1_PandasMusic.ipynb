{
  "cells": [
    {
      "cell_type": "markdown",
      "id": "b6bc1058",
      "metadata": {},
      "source": "<img src='https://pandas.pydata.org/docs/_static/pandas.svg' width=500>"
    },
    {
      "cell_type": "markdown",
      "id": "e4ffdfda",
      "metadata": {},
      "source": "https://pandas.pydata.org/\n\nPandas data-manipulation capabilities are built on top of NumPy, utilizing its fast array processing, and its graphing capabilities are built on top of Matplotlib.\n\n* \"pandas is a fast, powerful, flexible and easy to use open source data analysis and manipulation tool, built on top of the Python programming language.\"\n\n* It may be one of the most widely used tools for data munging\n\n  * present data in nice formats\n  * multiple convenient methods for filtering data\n  * work with a variety of data formats (CSV, Excel, …)\n  * convenient functions for quickly plotting data\n\n* The name comes from panel data (and is also a play on python data analysis)"
    },
    {
      "cell_type": "markdown",
      "id": "72853e9b",
      "metadata": {},
      "source": "Import the library:"
    },
    {
      "cell_type": "code",
      "execution_count": null,
      "id": "26c8e6e3",
      "metadata": {
        "trusted": true
      },
      "outputs": [],
      "source": "import pandas as pd"
    },
    {
      "cell_type": "markdown",
      "id": "cf4ea78d",
      "metadata": {},
      "source": "## CORGIS\n\nWe are going to investigate some example datasets from CORGIS, \"The Collection of Really Great, Interesting, Situated Datasets\"\n* https://corgis-edu.github.io/corgis/\n* more specifically, the CSV files at https://corgis-edu.github.io/corgis/csv/"
    },
    {
      "cell_type": "markdown",
      "id": "0c6c23b7",
      "metadata": {},
      "source": "The first dataset we'll look at is about Music (https://corgis-edu.github.io/corgis/csv/music/)\n* \"This library comes from the Million Song Dataset, which used a company called the Echo Nest to derive data points about one million popular contemporary songs. The Million Song Dataset is a collaboration between the Echo Nest and LabROSA, a laboratory working towards intelligent machine listening. The project was also funded in part by the National Science Foundation of America (NSF) to provide a large data set to evaluate research related to algorithms on a commercial size while promoting further research into the Music Information Retrieval field. The data contains standard information about the songs such as artist name, title, and year released. Additionally, the data contains more advanced information; for example, the length of the song, how many musical bars long the song is, and how long the fade in to the song was.\""
    },
    {
      "cell_type": "markdown",
      "id": "3ee31e3c",
      "metadata": {},
      "source": "I have already saved the file in our GitHub repository.  We will import the CSV file from a link:"
    },
    {
      "cell_type": "code",
      "execution_count": null,
      "id": "b8c8a6fe",
      "metadata": {
        "trusted": true
      },
      "outputs": [],
      "source": "pd.read_csv('https://raw.githubusercontent.com/benjum/UCLA-23W-DH140/main/Weeks/Week04/data/music.csv')"
    },
    {
      "cell_type": "markdown",
      "id": "02c45028",
      "metadata": {},
      "source": "We'll want to do many things with this dataset, so we'll store it in a variable."
    },
    {
      "cell_type": "code",
      "execution_count": null,
      "id": "1f720ee0",
      "metadata": {
        "trusted": true
      },
      "outputs": [],
      "source": "musicdata = pd.read_csv('music.csv')"
    },
    {
      "cell_type": "markdown",
      "id": "fe2f320f",
      "metadata": {},
      "source": "`musicdata` now stores a Pandas dataframe."
    },
    {
      "cell_type": "code",
      "execution_count": null,
      "id": "789b019a",
      "metadata": {
        "trusted": true
      },
      "outputs": [],
      "source": "musicdata"
    },
    {
      "cell_type": "code",
      "execution_count": null,
      "id": "369ef7d9",
      "metadata": {
        "trusted": true
      },
      "outputs": [],
      "source": "# Note:  usually it's not worth it to directly print a dataframe\nprint(musicdata)"
    },
    {
      "cell_type": "markdown",
      "id": "8aca2c83",
      "metadata": {},
      "source": "## How can we tell what's stored in the dataframe?"
    },
    {
      "cell_type": "code",
      "execution_count": null,
      "id": "2d73f15a",
      "metadata": {
        "trusted": true
      },
      "outputs": [],
      "source": "musicdata.info()"
    },
    {
      "cell_type": "markdown",
      "id": "8a64889b",
      "metadata": {},
      "source": "**Check**:  Does this correspond to what's described on the CORGIS web site?\n* It's always good to confirm that you have imported the data that you expected to import."
    },
    {
      "cell_type": "markdown",
      "id": "a539016d",
      "metadata": {},
      "source": "We can look at snapshots of the dataframe too, to see if the data makes sense.\n  * `df.sample()`: print a sample record (row)\n  * `df.head()`: print the first several rows\n  * `df.tail()`: print the last several rows "
    },
    {
      "cell_type": "code",
      "execution_count": null,
      "id": "2bb20ceb",
      "metadata": {
        "trusted": true
      },
      "outputs": [],
      "source": "musicdata.sample()"
    },
    {
      "cell_type": "code",
      "execution_count": null,
      "id": "2ca01d56",
      "metadata": {
        "trusted": true
      },
      "outputs": [],
      "source": "musicdata.head()"
    },
    {
      "cell_type": "code",
      "execution_count": null,
      "id": "190c5c2c",
      "metadata": {
        "trusted": true
      },
      "outputs": [],
      "source": "musicdata.tail()"
    },
    {
      "cell_type": "markdown",
      "id": "11bdab89",
      "metadata": {},
      "source": "Sometimes we'll want more specific rows (we'll get to that shortly).  \n\nWhen first investigating the data, it's also good to check out summary info, to get a picture of the dataset as a whole.\n\nThere are several useful dataframe attributes and methods that will allow you to get summary info:\n* `columns` : column names\n* `dtypes` : data types of the columns (dataframes can hold different datatypes in different columns)\n* `index` : information about the row indices (they don't have to be numerical)\n* `shape` : the size of the dataframe in each dimension\n* `describe()` : basic statistics about the data columns"
    },
    {
      "cell_type": "code",
      "execution_count": null,
      "id": "2ab4f0e5",
      "metadata": {
        "trusted": true
      },
      "outputs": [],
      "source": "musicdata.columns"
    },
    {
      "cell_type": "code",
      "execution_count": null,
      "id": "24ed3df2",
      "metadata": {
        "trusted": true
      },
      "outputs": [],
      "source": "musicdata.dtypes"
    },
    {
      "cell_type": "code",
      "execution_count": null,
      "id": "808290dc",
      "metadata": {
        "trusted": true
      },
      "outputs": [],
      "source": "musicdata.index"
    },
    {
      "cell_type": "code",
      "execution_count": null,
      "id": "5a86026e",
      "metadata": {
        "trusted": true
      },
      "outputs": [],
      "source": "musicdata.shape"
    },
    {
      "cell_type": "code",
      "execution_count": null,
      "id": "0eb624bc",
      "metadata": {
        "trusted": true
      },
      "outputs": [],
      "source": "musicdata.describe()"
    },
    {
      "cell_type": "code",
      "execution_count": null,
      "id": "1f1f888c",
      "metadata": {
        "trusted": true
      },
      "outputs": [],
      "source": "musicdata.describe(include='all')"
    },
    {
      "cell_type": "markdown",
      "id": "90c79fee",
      "metadata": {},
      "source": "## Selecting data from the dataframe\n\nJust like with a spreadsheet, we may want to retrieve specific rows or columns.\n\n* to look at data in a certain part of the table\n* to make a plot with specific columns, or only rows that satisfy a certain condition\n* to find the average of all values in one column\n* to find the average of values in one column, but only for particular rows\n* etc.\n\nIn order to do all of these, you have to know how to properly select the rows and columns of data you want."
    },
    {
      "cell_type": "code",
      "execution_count": null,
      "id": "acbafd59",
      "metadata": {
        "trusted": true
      },
      "outputs": [],
      "source": "# note that you can't index a dataframe like a list\n# this will give an error!!\nmusicdata[0]"
    },
    {
      "cell_type": "markdown",
      "id": "93929fba",
      "metadata": {},
      "source": "It's best to stick with `loc` and `iloc` for the moment to index dataframes.\n* `iloc` : numerical indexing\n* `loc` : label-based indexing (which can look numerical if the row index is a number)"
    },
    {
      "cell_type": "code",
      "execution_count": null,
      "id": "40fceb0b",
      "metadata": {
        "trusted": true
      },
      "outputs": [],
      "source": "# Let's retrieve a sample row first\nmusicdata.sample()"
    },
    {
      "cell_type": "code",
      "execution_count": null,
      "id": "542be445",
      "metadata": {
        "trusted": true
      },
      "outputs": [],
      "source": "# change this to match the sample row\nmusicdata.iloc[5216,1]"
    },
    {
      "cell_type": "code",
      "execution_count": null,
      "id": "5c2063eb",
      "metadata": {
        "trusted": true
      },
      "outputs": [],
      "source": "# change this to match the sample row\nmusicdata.loc[5216,'artist.hotttnesss']"
    },
    {
      "cell_type": "code",
      "execution_count": null,
      "id": "654b7726",
      "metadata": {
        "trusted": true
      },
      "outputs": [],
      "source": "# you can also get subsets with the slicing notation\nmusicdata.loc[5214:5217, 'artist.hotttnesss']"
    },
    {
      "cell_type": "code",
      "execution_count": null,
      "id": "a165e0f1",
      "metadata": {
        "trusted": true
      },
      "outputs": [],
      "source": "# and you can use lists too as indices\nmusicdata.loc[[5216,5217,5218], ['artist.familiarity','artist.hotttnesss']]"
    },
    {
      "cell_type": "markdown",
      "id": "9cd35704",
      "metadata": {},
      "source": "You can also use a true/false condition to get rows that satisfy a certain condition.  \n* For example, we can get rows for a given artist\n* ... or rows that have hotttnesss > 0.5\n\nThis is called \"Boolean indexing\""
    },
    {
      "cell_type": "code",
      "execution_count": null,
      "id": "66191af9",
      "metadata": {
        "trusted": true
      },
      "outputs": [],
      "source": "# Boolean indexing relies on using a true/false condition, like:\nmusicdata['artist.name'] == 'Eurythmics'"
    },
    {
      "cell_type": "markdown",
      "id": "225ad85b",
      "metadata": {},
      "source": "The above evaluates every single row to see whether the `artist.name` is equal to `Eurythmics`.\n\nYou can use that series of true/false values as an index -- this will return only those rows of the dataframe for which the condition is true."
    },
    {
      "cell_type": "code",
      "execution_count": null,
      "id": "b7708363",
      "metadata": {
        "trusted": true
      },
      "outputs": [],
      "source": "musicdata.loc[ musicdata['artist.name'] == 'Eurythmics' ]"
    },
    {
      "cell_type": "markdown",
      "id": "2a124134",
      "metadata": {},
      "source": "<div class=\"alert alert-info\">\n\nNow you try it!  \n* Try to access data in particular rows and columns with `loc` and with `iloc`\n* Make sure that you try using Boolean indexing too\n    \n</div>"
    },
    {
      "cell_type": "code",
      "execution_count": null,
      "id": "4354a829",
      "metadata": {
        "trusted": true
      },
      "outputs": [],
      "source": ""
    },
    {
      "cell_type": "markdown",
      "id": "936d2c87",
      "metadata": {},
      "source": "## Data Visualization"
    },
    {
      "cell_type": "markdown",
      "id": "ea1ef3c2",
      "metadata": {},
      "source": "Pandas makes available some very easy plotting routines.\n\nYou call these directly on the variable name of the dataframe."
    },
    {
      "cell_type": "code",
      "execution_count": null,
      "id": "58b1f220",
      "metadata": {
        "trusted": true
      },
      "outputs": [],
      "source": "musicdata.plot(y = 'artist.hotttnesss')"
    },
    {
      "cell_type": "markdown",
      "id": "1ed6d411",
      "metadata": {},
      "source": "What is the above plotting?"
    },
    {
      "cell_type": "code",
      "execution_count": null,
      "id": "2c9b1725",
      "metadata": {
        "trusted": true
      },
      "outputs": [],
      "source": "musicdata.loc[:, 'artist.hotttnesss'].plot()"
    },
    {
      "cell_type": "code",
      "execution_count": null,
      "id": "b0f2e86d",
      "metadata": {
        "trusted": true
      },
      "outputs": [],
      "source": "musicdata.loc[:, 'artist.hotttnesss'].plot(kind='line')"
    },
    {
      "cell_type": "code",
      "execution_count": null,
      "id": "6d971698",
      "metadata": {
        "trusted": true
      },
      "outputs": [],
      "source": "musicdata.plot(y = 'artist.hotttnesss', kind = 'box')"
    },
    {
      "cell_type": "code",
      "execution_count": null,
      "id": "d78e3e72",
      "metadata": {
        "trusted": true
      },
      "outputs": [],
      "source": "musicdata.plot(y = 'artist.hotttnesss', kind = 'hist')"
    },
    {
      "cell_type": "markdown",
      "id": "b7c70664",
      "metadata": {},
      "source": "We can even check whether the above match up with summary statistics."
    },
    {
      "cell_type": "code",
      "execution_count": null,
      "id": "c3967cd3",
      "metadata": {
        "trusted": true
      },
      "outputs": [],
      "source": "musicdata['artist.hotttnesss'].describe()"
    },
    {
      "cell_type": "markdown",
      "id": "bacc7326",
      "metadata": {},
      "source": "In addition to plotting, we can use other methods on dataframes."
    },
    {
      "cell_type": "code",
      "execution_count": null,
      "id": "6c4b3b28",
      "metadata": {
        "trusted": true
      },
      "outputs": [],
      "source": "musicdata['artist.hotttnesss'].mean()"
    },
    {
      "cell_type": "code",
      "execution_count": null,
      "id": "e9bb7edf",
      "metadata": {
        "trusted": true
      },
      "outputs": [],
      "source": "musicdata['artist.hotttnesss'].median()"
    },
    {
      "cell_type": "code",
      "execution_count": null,
      "id": "2b2e6e79",
      "metadata": {
        "trusted": true
      },
      "outputs": [],
      "source": "musicdata['artist.hotttnesss'].std()"
    },
    {
      "cell_type": "markdown",
      "id": "4bf0e493",
      "metadata": {},
      "source": "## Back to plotting\n\nWith plotting, we of course have to be careful about making meaningful plots.\n\nBy default, pandas will make a line plot connecting the points.  The above line plot looks random because it's simply plotting 'artist.hotttnesss' for every row, and the points are plotted in whatever order the rows are in (not in ascending or descending numerical order)."
    },
    {
      "cell_type": "markdown",
      "id": "58ffb53b",
      "metadata": {},
      "source": "The `kind` parameter makes it very easy to make a variety of different elementary plots:\n\n* `line` : line plot\n* `bar` : vertical bar plot\n* `barh` : horizontal bar plot\n* `hist` : histogram\n* `box` : boxplot\n* `kde` : kernel density estimation plot\n* `density` : same as kde\n* `area` : area plot\n* `pie` : pie plot\n* `scatter` : scatter plot\n* `hexbin` : hexbin plot"
    },
    {
      "cell_type": "markdown",
      "id": "7e900ac9",
      "metadata": {},
      "source": "Last week we looked at how some plots are better suited to numerical data and some to categorical data.\n\n* If we try to plot `musicdata['artist.hotttnesss'].plot(kind = 'box')`, that works ok.\n* If we try to plot `musicdata['artist.hotttnesss'].plot(kind = 'pie')`, that will take annoyingly long to make and not look meaningful because it will try to plot every single row as one slice of the pie chart"
    },
    {
      "cell_type": "markdown",
      "id": "96c78b10",
      "metadata": {},
      "source": "The above are simple univariate plots (they only plot one variable from our dataframe)."
    },
    {
      "cell_type": "code",
      "execution_count": null,
      "id": "7839ec10",
      "metadata": {
        "trusted": true
      },
      "outputs": [],
      "source": "musicdata.plot(y = 'artist.hotttnesss')"
    },
    {
      "cell_type": "code",
      "execution_count": null,
      "id": "0dfe942b",
      "metadata": {
        "trusted": true
      },
      "outputs": [],
      "source": "musicdata.plot(y = 'artist.hotttnesss', kind = 'box')"
    },
    {
      "cell_type": "markdown",
      "id": "b6ea96ec",
      "metadata": {},
      "source": "There are **many** other interesting univariate plots to be made, as well as bivariate and multivariate plots.  Plots with 2 or more variables allow us to look for relationships, dependencies, associations, etc."
    },
    {
      "cell_type": "code",
      "execution_count": null,
      "id": "2c27ed02",
      "metadata": {
        "trusted": true
      },
      "outputs": [],
      "source": "musicdata.plot(x = 'song.hotttnesss', y = 'artist.hotttnesss', kind='scatter')"
    },
    {
      "cell_type": "markdown",
      "id": "ceb10f0f",
      "metadata": {},
      "source": "Side-note:  Beware that your specification of plots will sometimes prevent you from making intelligible plots.  The next cell reveals what the above plot would look like if you used Pandas default `plot()` method."
    },
    {
      "cell_type": "code",
      "execution_count": null,
      "id": "63ea3ba6",
      "metadata": {
        "trusted": true
      },
      "outputs": [],
      "source": "musicdata.plot(x = 'song.hotttnesss', y = 'artist.hotttnesss')"
    },
    {
      "cell_type": "markdown",
      "id": "52eae996",
      "metadata": {},
      "source": "What happened?\n\n---\n\nLet's remake the scatter plot."
    },
    {
      "cell_type": "code",
      "execution_count": null,
      "id": "3a5d4894",
      "metadata": {
        "trusted": true
      },
      "outputs": [],
      "source": "musicdata.plot(x = 'song.hotttnesss', y = 'artist.hotttnesss', kind='scatter')"
    },
    {
      "cell_type": "markdown",
      "id": "53acad00",
      "metadata": {},
      "source": "In the scatter plot we start to see the importance of exploratory data analysis. There is an interesting set of values that look clastured, but then there are discretely valued points at 0 and -1 in `song.hotttnesss` and at 0 in `artist.hotttnesss` that may need to be specially handled."
    },
    {
      "cell_type": "markdown",
      "id": "fcc1cdaf",
      "metadata": {},
      "source": "If we want to get rid of those values that satisfy a particular **condition** (like *song.hotttnesss == 1*), we can use Boolean indexing."
    },
    {
      "cell_type": "code",
      "execution_count": null,
      "id": "a5f259f2",
      "metadata": {
        "trusted": true
      },
      "outputs": [],
      "source": "truncated_data = musicdata.loc[musicdata['artist.hotttnesss'] > 0.0]\ntruncated_data.plot(x = 'song.hotttnesss', y = 'artist.hotttnesss', kind='scatter')"
    },
    {
      "cell_type": "markdown",
      "id": "5b064351",
      "metadata": {},
      "source": "We can even use multiple conditions with `&` (and) and `|` (or)."
    },
    {
      "cell_type": "code",
      "execution_count": null,
      "id": "1220f4d9",
      "metadata": {
        "trusted": true
      },
      "outputs": [],
      "source": "truncated_data = musicdata.loc[(musicdata['artist.hotttnesss'] > 0.0) & (musicdata['song.hotttnesss'] > 0.0)]\ntruncated_data.plot(x = 'song.hotttnesss', y = 'artist.hotttnesss', kind='scatter')"
    },
    {
      "cell_type": "code",
      "execution_count": null,
      "id": "50812af2",
      "metadata": {
        "trusted": true
      },
      "outputs": [],
      "source": "truncated_data = musicdata.loc[(musicdata['artist.hotttnesss'] > 0.0) & (musicdata['song.hotttnesss'] > 0.0)]\ntruncated_data.plot(x = 'song.hotttnesss', \n                    y = 'artist.hotttnesss', \n                    kind='hexbin', \n                    cmap='gist_stern')"
    },
    {
      "cell_type": "markdown",
      "id": "ed479c27",
      "metadata": {},
      "source": "<div class=\"alert alert-info\">\n\nYour turn: try looking at a couple more examples of Boolean indexing and plotting, to re-inforce some of these concepts.\n\nThink about what the following will generate before you execute them, and then execute them to see what results they give.\n    \n</div>"
    },
    {
      "cell_type": "code",
      "execution_count": null,
      "id": "498fb219",
      "metadata": {
        "trusted": true
      },
      "outputs": [],
      "source": "musicdata.loc[musicdata['artist.name'] == 'Moonspell']"
    },
    {
      "cell_type": "code",
      "execution_count": null,
      "id": "ffc99708",
      "metadata": {
        "trusted": true
      },
      "outputs": [],
      "source": "# You should understand part of the dataframe gets output\n# But note that the data values don't necessarily have to make sense\n\nmusicdata.loc[musicdata['artist.name'] == 'U2', ['song.title','song.year']]"
    },
    {
      "cell_type": "code",
      "execution_count": null,
      "id": "012a58e2",
      "metadata": {
        "trusted": true
      },
      "outputs": [],
      "source": "musicdata.loc[:,['song.title']]"
    },
    {
      "cell_type": "code",
      "execution_count": null,
      "id": "fa352b61",
      "metadata": {
        "trusted": true
      },
      "outputs": [],
      "source": "musicdata['song.title'].unique()"
    },
    {
      "cell_type": "code",
      "execution_count": null,
      "id": "a08d649d",
      "metadata": {
        "scrolled": true,
        "trusted": true
      },
      "outputs": [],
      "source": "for i in musicdata['artist.name'].unique():\n    print(i)"
    },
    {
      "cell_type": "code",
      "execution_count": null,
      "id": "e8db8708",
      "metadata": {
        "trusted": true
      },
      "outputs": [],
      "source": "musicdata.loc[:,'song.year'].plot()"
    },
    {
      "cell_type": "code",
      "execution_count": null,
      "id": "40b019ef",
      "metadata": {
        "trusted": true
      },
      "outputs": [],
      "source": "musicdata.loc[:,'song.year'].plot(kind='hist')"
    },
    {
      "cell_type": "code",
      "execution_count": null,
      "id": "add9218a",
      "metadata": {
        "trusted": true
      },
      "outputs": [],
      "source": "musicdata.plot(y = 'song.year', kind='hist')"
    },
    {
      "cell_type": "code",
      "execution_count": null,
      "id": "2980439c",
      "metadata": {
        "trusted": true
      },
      "outputs": [],
      "source": "musicdata.loc[musicdata['song.year'] != 0,'song.year'].plot(kind = 'hist')"
    },
    {
      "cell_type": "code",
      "execution_count": null,
      "id": "10eed023",
      "metadata": {
        "trusted": true
      },
      "outputs": [],
      "source": "musicdata.loc[musicdata['song.year'] != 0,'song.year'].plot(kind = 'hist', bins=100)"
    },
    {
      "cell_type": "markdown",
      "id": "4e2dc2d8",
      "metadata": {},
      "source": "## Pause if you get here"
    },
    {
      "cell_type": "markdown",
      "id": "fcbe388c",
      "metadata": {},
      "source": "## Maps\n\nWe will start simple.  \n\nToday we'll introduce ourselves to some Python mapping libraries: `folium`, `geopandas`, and `contextily`!\n\n* [folium documentation](https://python-visualization.github.io/folium/quickstart.html)\n* [geopandas documentation](https://geopandas.readthedocs.io/en/latest/gallery/index.html)\n* [contextily documentation](https://contextily.readthedocs.io/en/latest/intro_guide.html)"
    },
    {
      "cell_type": "markdown",
      "id": "7fc84bbb",
      "metadata": {},
      "source": "Our dataset has location information in it:"
    },
    {
      "cell_type": "code",
      "execution_count": null,
      "id": "8f907fed",
      "metadata": {
        "trusted": true
      },
      "outputs": [],
      "source": "musicdata.loc[musicdata['artist.name'] == 'Eurythmics', ['artist.latitude','artist.longitude']]"
    },
    {
      "cell_type": "markdown",
      "id": "d6529fff",
      "metadata": {},
      "source": "Where is that?\n\nTo help, we'll make a map with `folium`.  Making a map with `folium` is easy."
    },
    {
      "cell_type": "code",
      "execution_count": null,
      "id": "ce3d23ea",
      "metadata": {
        "trusted": true
      },
      "outputs": [],
      "source": "import folium"
    },
    {
      "cell_type": "code",
      "execution_count": null,
      "id": "76e8cd88",
      "metadata": {
        "trusted": true
      },
      "outputs": [],
      "source": "# default folium map\nm = folium.Map()\nm"
    },
    {
      "cell_type": "code",
      "execution_count": null,
      "id": "9372e58b",
      "metadata": {
        "trusted": true
      },
      "outputs": [],
      "source": "# Here is a map centered on the lat/lon above\nlatitude = 51.50632\nlongitude = -0.12714\nm = folium.Map(location=[latitude,longitude])\nm"
    },
    {
      "cell_type": "markdown",
      "id": "8a6cffdc",
      "metadata": {},
      "source": "Let's center it on our entire dataset of values. \n\nFirst, get the average latitude and longitude values."
    },
    {
      "cell_type": "code",
      "execution_count": null,
      "id": "a9c4c925",
      "metadata": {
        "trusted": true
      },
      "outputs": [],
      "source": "# average latitude\nlatitude = musicdata['artist.latitude'].mean()\nlatitude"
    },
    {
      "cell_type": "code",
      "execution_count": null,
      "id": "3f530a34",
      "metadata": {
        "trusted": true
      },
      "outputs": [],
      "source": "# average latitude\nlongitude = musicdata['artist.longitude'].mean()\nlongitude"
    },
    {
      "cell_type": "code",
      "execution_count": null,
      "id": "914af0e9",
      "metadata": {
        "trusted": true
      },
      "outputs": [],
      "source": "# Here is a map centered on the average lat/lon calculated above\nm = folium.Map(location=[latitude,longitude])\nm"
    },
    {
      "cell_type": "markdown",
      "id": "f781a8a3",
      "metadata": {},
      "source": "To retrieve the points of interest, we can iterate over the rows of our dataframe."
    },
    {
      "cell_type": "code",
      "execution_count": null,
      "id": "588a8046",
      "metadata": {
        "trusted": true
      },
      "outputs": [],
      "source": "for index, row in musicdata.iterrows():\n    print([row['artist.name'], row['artist.latitude'], row['artist.longitude']])"
    },
    {
      "cell_type": "code",
      "execution_count": null,
      "id": "d7dab734",
      "metadata": {
        "trusted": true
      },
      "outputs": [],
      "source": "# now we'll add the Markers to the map\n\neurythmics_location = musicdata.loc[musicdata['artist.name'] == 'Eurythmics', ['artist.latitude','artist.longitude']]\nlat = eurythmics_location['artist.latitude'].mean()\nlon = eurythmics_location['artist.longitude'].mean()\n\nfolium.Marker([lat,lon]).add_to(m)\nm"
    },
    {
      "cell_type": "code",
      "execution_count": null,
      "id": "850d9407",
      "metadata": {
        "scrolled": false,
        "trusted": true
      },
      "outputs": [],
      "source": "m = folium.Map(location=[lat,lon], zoom_start=3)\nfor index, row in musicdata.iterrows():\n    if row['artist.latitude'] != 0.0 and row['song.hotttnesss'] > 0.9:\n        print(row['artist.name'],row['song.title'])\n        folium.Marker([row['artist.latitude'],row['artist.longitude']], popup=row['artist.name']).add_to(m)\nm"
    },
    {
      "cell_type": "markdown",
      "id": "8aded194",
      "metadata": {},
      "source": "<div class=\"alert alert-info\">\n\nYour turn.\n* Try your own hand at making some different plots with various columns.\n* Make sure you understand what's being plotted on the horizontal axis and vertical axis -> if you don't understand, ask your neighbor.  Or ask me."
    },
    {
      "cell_type": "code",
      "execution_count": null,
      "id": "8390986a",
      "metadata": {
        "trusted": true
      },
      "outputs": [],
      "source": ""
    },
    {
      "cell_type": "code",
      "execution_count": null,
      "id": "bd1f6745",
      "metadata": {
        "trusted": true
      },
      "outputs": [],
      "source": ""
    }
  ],
  "metadata": {
    "kernelspec": {
      "display_name": "Python 3 (ipykernel)",
      "language": "python",
      "name": "python3"
    },
    "language_info": {
      "codemirror_mode": {
        "name": "ipython",
        "version": 3
      },
      "file_extension": ".py",
      "mimetype": "text/x-python",
      "name": "python",
      "nbconvert_exporter": "python",
      "pygments_lexer": "ipython3",
      "version": "3.10.8"
    }
  },
  "nbformat": 4,
  "nbformat_minor": 5
}