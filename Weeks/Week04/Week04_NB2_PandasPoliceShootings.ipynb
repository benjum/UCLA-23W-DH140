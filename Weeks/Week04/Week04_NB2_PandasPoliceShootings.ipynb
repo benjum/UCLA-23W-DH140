{
  "cells": [
    {
      "cell_type": "markdown",
      "id": "d8ce800e",
      "metadata": {},
      "source": "# Situated data"
    },
    {
      "cell_type": "markdown",
      "id": "056e4652",
      "metadata": {},
      "source": "Our reading described the importance of considering data's context.\n\nWithin CORGIS, let's look at another dataset in which it is important to consider context, inclusion, and exclusion.\n* Police shootings:  https://corgis-edu.github.io/corgis/csv/police_shootings/"
    },
    {
      "cell_type": "markdown",
      "id": "3be10752",
      "metadata": {},
      "source": "Import Pandas:"
    },
    {
      "cell_type": "code",
      "execution_count": 1,
      "id": "c62941f5",
      "metadata": {
        "trusted": false
      },
      "outputs": [],
      "source": "import pandas as pd"
    },
    {
      "cell_type": "markdown",
      "id": "2ed8da21",
      "metadata": {},
      "source": "Import the data (I've copied the CSV file into our class repo, so we're importing it from a link)."
    },
    {
      "cell_type": "code",
      "execution_count": 3,
      "id": "03837ec9",
      "metadata": {
        "trusted": false
      },
      "outputs": [],
      "source": "df = pd.read_csv('https://raw.githubusercontent.com/benjum/UCLA-23W-DH140/main/Weeks/Week04/data/police_shootings.csv')"
    },
    {
      "cell_type": "markdown",
      "id": "423d377b",
      "metadata": {},
      "source": "We can use our newly learned dataframe methods to investigate this data.\n\nFirst, let's just look at a snapshot."
    },
    {
      "cell_type": "code",
      "execution_count": 4,
      "id": "c4da7b24",
      "metadata": {
        "trusted": false
      },
      "outputs": [
        {
          "data": {
            "text/html": "<div>\n<style scoped>\n    .dataframe tbody tr th:only-of-type {\n        vertical-align: middle;\n    }\n\n    .dataframe tbody tr th {\n        vertical-align: top;\n    }\n\n    .dataframe thead th {\n        text-align: right;\n    }\n</style>\n<table border=\"1\" class=\"dataframe\">\n  <thead>\n    <tr style=\"text-align: right;\">\n      <th></th>\n      <th>Person.Name</th>\n      <th>Person.Age</th>\n      <th>Person.Gender</th>\n      <th>Person.Race</th>\n      <th>Incident.Date.Month</th>\n      <th>Incident.Date.Day</th>\n      <th>Incident.Date.Year</th>\n      <th>Incident.Date.Full</th>\n      <th>Incident.Location.City</th>\n      <th>Incident.Location.State</th>\n      <th>Factors.Armed</th>\n      <th>Factors.Mental-Illness</th>\n      <th>Factors.Threat-Level</th>\n      <th>Factors.Fleeing</th>\n      <th>Shooting.Manner</th>\n      <th>Shooting.Body-Camera</th>\n    </tr>\n  </thead>\n  <tbody>\n    <tr>\n      <th>0</th>\n      <td>Tim Elliot</td>\n      <td>53</td>\n      <td>Male</td>\n      <td>Asian</td>\n      <td>1</td>\n      <td>2</td>\n      <td>2015</td>\n      <td>2015/01/02</td>\n      <td>Shelton</td>\n      <td>WA</td>\n      <td>gun</td>\n      <td>True</td>\n      <td>attack</td>\n      <td>Not fleeing</td>\n      <td>shot</td>\n      <td>True</td>\n    </tr>\n    <tr>\n      <th>1</th>\n      <td>Lewis Lee Lembke</td>\n      <td>47</td>\n      <td>Male</td>\n      <td>White</td>\n      <td>1</td>\n      <td>2</td>\n      <td>2015</td>\n      <td>2015/01/02</td>\n      <td>Aloha</td>\n      <td>OR</td>\n      <td>gun</td>\n      <td>True</td>\n      <td>attack</td>\n      <td>Not fleeing</td>\n      <td>shot</td>\n      <td>True</td>\n    </tr>\n    <tr>\n      <th>2</th>\n      <td>John Paul Quintero</td>\n      <td>23</td>\n      <td>Male</td>\n      <td>Hispanic</td>\n      <td>1</td>\n      <td>3</td>\n      <td>2015</td>\n      <td>2015/01/03</td>\n      <td>Wichita</td>\n      <td>KS</td>\n      <td>unarmed</td>\n      <td>True</td>\n      <td>other</td>\n      <td>Not fleeing</td>\n      <td>shot and Tasered</td>\n      <td>True</td>\n    </tr>\n    <tr>\n      <th>3</th>\n      <td>Matthew Hoffman</td>\n      <td>32</td>\n      <td>Male</td>\n      <td>White</td>\n      <td>1</td>\n      <td>4</td>\n      <td>2015</td>\n      <td>2015/01/04</td>\n      <td>San Francisco</td>\n      <td>CA</td>\n      <td>toy weapon</td>\n      <td>True</td>\n      <td>attack</td>\n      <td>Not fleeing</td>\n      <td>shot</td>\n      <td>True</td>\n    </tr>\n    <tr>\n      <th>4</th>\n      <td>Michael Rodriguez</td>\n      <td>39</td>\n      <td>Male</td>\n      <td>Hispanic</td>\n      <td>1</td>\n      <td>4</td>\n      <td>2015</td>\n      <td>2015/01/04</td>\n      <td>Evans</td>\n      <td>CO</td>\n      <td>nail gun</td>\n      <td>True</td>\n      <td>attack</td>\n      <td>Not fleeing</td>\n      <td>shot</td>\n      <td>True</td>\n    </tr>\n    <tr>\n      <th>...</th>\n      <td>...</td>\n      <td>...</td>\n      <td>...</td>\n      <td>...</td>\n      <td>...</td>\n      <td>...</td>\n      <td>...</td>\n      <td>...</td>\n      <td>...</td>\n      <td>...</td>\n      <td>...</td>\n      <td>...</td>\n      <td>...</td>\n      <td>...</td>\n      <td>...</td>\n      <td>...</td>\n    </tr>\n    <tr>\n      <th>6564</th>\n      <td>Unknown</td>\n      <td>0</td>\n      <td>Male</td>\n      <td>Unknown</td>\n      <td>9</td>\n      <td>7</td>\n      <td>2021</td>\n      <td>2021/09/07</td>\n      <td>Fruit Cove</td>\n      <td>FL</td>\n      <td>gun</td>\n      <td>True</td>\n      <td>attack</td>\n      <td>Not fleeing</td>\n      <td>shot</td>\n      <td>True</td>\n    </tr>\n    <tr>\n      <th>6565</th>\n      <td>Anthony Cravo</td>\n      <td>52</td>\n      <td>Male</td>\n      <td>Unknown</td>\n      <td>9</td>\n      <td>7</td>\n      <td>2021</td>\n      <td>2021/09/07</td>\n      <td>Lufkin</td>\n      <td>TX</td>\n      <td>gun</td>\n      <td>True</td>\n      <td>attack</td>\n      <td>Not fleeing</td>\n      <td>shot</td>\n      <td>True</td>\n    </tr>\n    <tr>\n      <th>6566</th>\n      <td>Cedric Williams</td>\n      <td>29</td>\n      <td>Male</td>\n      <td>Unknown</td>\n      <td>9</td>\n      <td>10</td>\n      <td>2021</td>\n      <td>2021/09/10</td>\n      <td>Oxon Hill</td>\n      <td>MD</td>\n      <td>toy weapon</td>\n      <td>True</td>\n      <td>other</td>\n      <td>unknown</td>\n      <td>shot</td>\n      <td>True</td>\n    </tr>\n    <tr>\n      <th>6567</th>\n      <td>Desmond Lewis</td>\n      <td>30</td>\n      <td>Male</td>\n      <td>Unknown</td>\n      <td>9</td>\n      <td>11</td>\n      <td>2021</td>\n      <td>2021/09/11</td>\n      <td>Shreveport</td>\n      <td>LA</td>\n      <td>gun</td>\n      <td>True</td>\n      <td>attack</td>\n      <td>Foot</td>\n      <td>shot</td>\n      <td>True</td>\n    </tr>\n    <tr>\n      <th>6568</th>\n      <td>Unknown</td>\n      <td>0</td>\n      <td>Male</td>\n      <td>Unknown</td>\n      <td>9</td>\n      <td>11</td>\n      <td>2021</td>\n      <td>2021/09/11</td>\n      <td>Horry County</td>\n      <td>SC</td>\n      <td>undetermined</td>\n      <td>True</td>\n      <td>other</td>\n      <td>Other</td>\n      <td>shot</td>\n      <td>True</td>\n    </tr>\n  </tbody>\n</table>\n<p>6569 rows × 16 columns</p>\n</div>",
            "text/plain": "             Person.Name  Person.Age Person.Gender Person.Race  \\\n0             Tim Elliot          53          Male       Asian   \n1       Lewis Lee Lembke          47          Male       White   \n2     John Paul Quintero          23          Male    Hispanic   \n3        Matthew Hoffman          32          Male       White   \n4      Michael Rodriguez          39          Male    Hispanic   \n...                  ...         ...           ...         ...   \n6564             Unknown           0          Male     Unknown   \n6565       Anthony Cravo          52          Male     Unknown   \n6566     Cedric Williams          29          Male     Unknown   \n6567       Desmond Lewis          30          Male     Unknown   \n6568             Unknown           0          Male     Unknown   \n\n      Incident.Date.Month  Incident.Date.Day  Incident.Date.Year  \\\n0                       1                  2                2015   \n1                       1                  2                2015   \n2                       1                  3                2015   \n3                       1                  4                2015   \n4                       1                  4                2015   \n...                   ...                ...                 ...   \n6564                    9                  7                2021   \n6565                    9                  7                2021   \n6566                    9                 10                2021   \n6567                    9                 11                2021   \n6568                    9                 11                2021   \n\n     Incident.Date.Full Incident.Location.City Incident.Location.State  \\\n0            2015/01/02                Shelton                      WA   \n1            2015/01/02                  Aloha                      OR   \n2            2015/01/03                Wichita                      KS   \n3            2015/01/04          San Francisco                      CA   \n4            2015/01/04                  Evans                      CO   \n...                 ...                    ...                     ...   \n6564         2021/09/07             Fruit Cove                      FL   \n6565         2021/09/07                 Lufkin                      TX   \n6566         2021/09/10              Oxon Hill                      MD   \n6567         2021/09/11             Shreveport                      LA   \n6568         2021/09/11           Horry County                      SC   \n\n     Factors.Armed  Factors.Mental-Illness Factors.Threat-Level  \\\n0              gun                    True               attack   \n1              gun                    True               attack   \n2          unarmed                    True                other   \n3       toy weapon                    True               attack   \n4         nail gun                    True               attack   \n...            ...                     ...                  ...   \n6564           gun                    True               attack   \n6565           gun                    True               attack   \n6566    toy weapon                    True                other   \n6567           gun                    True               attack   \n6568  undetermined                    True                other   \n\n     Factors.Fleeing   Shooting.Manner  Shooting.Body-Camera  \n0        Not fleeing              shot                  True  \n1        Not fleeing              shot                  True  \n2        Not fleeing  shot and Tasered                  True  \n3        Not fleeing              shot                  True  \n4        Not fleeing              shot                  True  \n...              ...               ...                   ...  \n6564     Not fleeing              shot                  True  \n6565     Not fleeing              shot                  True  \n6566         unknown              shot                  True  \n6567            Foot              shot                  True  \n6568           Other              shot                  True  \n\n[6569 rows x 16 columns]"
          },
          "execution_count": 4,
          "metadata": {},
          "output_type": "execute_result"
        }
      ],
      "source": "df"
    },
    {
      "cell_type": "markdown",
      "id": "8bcfdebd",
      "metadata": {},
      "source": "* What considerations do we need to make about the data that is present here?\n* What does the documentation tell us?\n  * https://corgis-edu.github.io/corgis/csv/police_shootings/\n* Is any information clouded?  misrepresented?  unusual?"
    },
    {
      "cell_type": "markdown",
      "id": "50e78ec6",
      "metadata": {},
      "source": "It will help to know how to use `groupby`.  This allows us to do aggregate calculations across unique values within a column, such as:\n* How many Male vs Female vs Unknown Gender persons are in the data?  \n  * `df.groupby('Person.Gender').count()` and `df.groupby('Person.Gender')['Person.Gender'].count()`\n* How many people were considered Mentally Ill?\n  * `df.groupby('Factors.Mental-Illness')['Factors.Mental-Illness'].count()` \n  * and `df['Factors.Mental-Illness'].unique()`\n* What is the distribution of values by race? by age? by state?\n  * `df.groupby('Person.Race')['Person.Race'].count()`\n  * `df.groupby('Person.Age')['Person.Age'].count()`\n  * `df.groupby('Incident.Location.State')['Incident.Location.State'].count()`\n* How can plots help?\n  * `df.plot(y = 'Person.Age', kind='hist')`\n  * maps"
    },
    {
      "cell_type": "code",
      "execution_count": null,
      "id": "72791ed7",
      "metadata": {
        "trusted": false
      },
      "outputs": [],
      "source": ""
    },
    {
      "cell_type": "code",
      "execution_count": null,
      "id": "494c766e",
      "metadata": {
        "trusted": false
      },
      "outputs": [],
      "source": ""
    },
    {
      "cell_type": "code",
      "execution_count": null,
      "id": "c46cb61d",
      "metadata": {
        "trusted": false
      },
      "outputs": [],
      "source": ""
    },
    {
      "cell_type": "code",
      "execution_count": null,
      "id": "5c3e4c86",
      "metadata": {
        "trusted": false
      },
      "outputs": [],
      "source": ""
    },
    {
      "cell_type": "code",
      "execution_count": null,
      "id": "2cad3738",
      "metadata": {
        "trusted": false
      },
      "outputs": [],
      "source": ""
    },
    {
      "cell_type": "code",
      "execution_count": null,
      "id": "5ee505c0",
      "metadata": {
        "trusted": false
      },
      "outputs": [],
      "source": ""
    },
    {
      "cell_type": "markdown",
      "id": "e5e17e52",
      "metadata": {},
      "source": "When looking at statistics like this, it is also important to keep in mind that the numbers are aggregated over multiple years, and that you may need to \"normalize\" the data to make meaningful comparisons.\n\nFor example, comparing a count of shootings for different race categories is different than using that count to compare a **rate** of shootings for different race categories.  [We can look at an example using the assumptions that the numbers were the same across all years and that the populations are similar to those in 2022: the populations of African Americans is ~42 million, Hispanic Americans is ~62 million, and White Americans is ~192 million.]"
    },
    {
      "cell_type": "code",
      "execution_count": null,
      "id": "3d1a0c98",
      "metadata": {
        "trusted": false
      },
      "outputs": [],
      "source": ""
    },
    {
      "cell_type": "markdown",
      "id": "b0f5d292",
      "metadata": {},
      "source": "If we are diligent, we can also try to seek other sources of confirmation for our findings:\n* https://www.statista.com/statistics/1123070/police-shootings-rate-ethnicity-us/\n* We can compare numbers\n  * Do they compare well?\n  * What do you think our weekly reading's authors would have to say about the plot title on that page?\n* We can also compare sources\n  * What do you see when you do that?\n* What happens when you go to the Washington Post article?\n  * https://www.washingtonpost.com/national/how-the-washington-post-is-examining-police-shootings-in-the-united-states/2016/07/07/d9c52238-43ad-11e6-8856-f26de2537a9d_story.html"
    },
    {
      "cell_type": "markdown",
      "id": "44d00065",
      "metadata": {},
      "source": "## Mapping"
    },
    {
      "cell_type": "code",
      "execution_count": 24,
      "id": "45e69a7b",
      "metadata": {
        "trusted": false
      },
      "outputs": [],
      "source": "state_data = df.groupby('Incident.Location.State')['Incident.Location.State'].count()"
    },
    {
      "cell_type": "code",
      "execution_count": 25,
      "id": "133a3256",
      "metadata": {
        "trusted": false
      },
      "outputs": [
        {
          "data": {
            "text/plain": "Incident.Location.State\nAK     47\nAL    124\nAR     95\nAZ    301\nCA    968\nCO    237\nCT     23\nDC     20\nDE     16\nFL    431\nGA    240\nHI     36\nIA     38\nID     53\nIL    129\nIN    120\nKS     62\nKY    116\nLA    129\nMA     43\nMD     97\nME     26\nMI    105\nMN     76\nMO    162\nMS     82\nMT     40\nNC    185\nND     14\nNE     34\nNH     18\nNJ     76\nNM    131\nNV    108\nNY    120\nOH    186\nOK    190\nOR    107\nPA    135\nRI      4\nSC    101\nSD     20\nTN    174\nTX    584\nUT     81\nVA    113\nVT     11\nWA    178\nWI    106\nWV     62\nWY     15\nName: Incident.Location.State, dtype: int64"
          },
          "execution_count": 25,
          "metadata": {},
          "output_type": "execute_result"
        }
      ],
      "source": "state_data"
    },
    {
      "cell_type": "code",
      "execution_count": 10,
      "id": "87d48434",
      "metadata": {
        "trusted": false
      },
      "outputs": [],
      "source": "import folium"
    },
    {
      "cell_type": "code",
      "execution_count": 47,
      "id": "3456d8c3",
      "metadata": {
        "trusted": false
      },
      "outputs": [],
      "source": "state_geo = \"https://raw.githubusercontent.com/python-visualization/folium/master/examples/data/us-states.json\""
    },
    {
      "cell_type": "code",
      "execution_count": 49,
      "id": "ddd9dad6",
      "metadata": {
        "trusted": false
      },
      "outputs": [
        {
          "ename": "AttributeError",
          "evalue": "'str' object has no attribute 'to_linear'",
          "output_type": "error",
          "traceback": [
            "\u001b[0;31m---------------------------------------------------------------------------\u001b[0m",
            "\u001b[0;31mAttributeError\u001b[0m                            Traceback (most recent call last)",
            "Cell \u001b[0;32mIn[49], line 7\u001b[0m\n\u001b[1;32m      1\u001b[0m m \u001b[38;5;241m=\u001b[39m folium\u001b[38;5;241m.\u001b[39mMap(location\u001b[38;5;241m=\u001b[39m[\u001b[38;5;241m36\u001b[39m, \u001b[38;5;241m-\u001b[39m\u001b[38;5;241m98\u001b[39m], zoom_start\u001b[38;5;241m=\u001b[39m\u001b[38;5;241m4\u001b[39m)\n\u001b[1;32m      3\u001b[0m folium\u001b[38;5;241m.\u001b[39mChoropleth(\n\u001b[1;32m      4\u001b[0m     geo_data\u001b[38;5;241m=\u001b[39mstate_geo,\n\u001b[1;32m      5\u001b[0m     data\u001b[38;5;241m=\u001b[39mstate_data,\n\u001b[1;32m      6\u001b[0m     key_on\u001b[38;5;241m=\u001b[39m\u001b[38;5;124m\"\u001b[39m\u001b[38;5;124mfeature.id\u001b[39m\u001b[38;5;124m\"\u001b[39m,\n\u001b[0;32m----> 7\u001b[0m     fill_color\u001b[38;5;241m=\u001b[39m\u001b[38;5;124;43m\"\u001b[39;49m\u001b[38;5;124;43mYlGn\u001b[39;49m\u001b[38;5;124;43m\"\u001b[39;49m\u001b[38;5;241;43m.\u001b[39;49m\u001b[43mto_linear\u001b[49m(),\n\u001b[1;32m      8\u001b[0m )\u001b[38;5;241m.\u001b[39madd_to(m)\n\u001b[1;32m     10\u001b[0m m\n",
            "\u001b[0;31mAttributeError\u001b[0m: 'str' object has no attribute 'to_linear'"
          ]
        }
      ],
      "source": "m = folium.Map(location=[36, -98], zoom_start=4)\n\nfolium.Choropleth(\n    geo_data=state_geo,\n    data=state_data,\n    key_on=\"feature.id\",\n    fill_color=\"YlGn\",\n).add_to(m)\n\nm"
    },
    {
      "cell_type": "markdown",
      "id": "417f8595",
      "metadata": {},
      "source": "This is another context in which it is important to consider normalization (we should be dividing by the population of the states to draw comparisons between states)."
    }
  ],
  "metadata": {
    "kernelspec": {
      "display_name": "Python 3 (ipykernel)",
      "language": "python",
      "name": "python3"
    },
    "language_info": {
      "codemirror_mode": {
        "name": "ipython",
        "version": 3
      },
      "file_extension": ".py",
      "mimetype": "text/x-python",
      "name": "python",
      "nbconvert_exporter": "python",
      "pygments_lexer": "ipython3",
      "version": "3.10.8"
    }
  },
  "nbformat": 4,
  "nbformat_minor": 5
}