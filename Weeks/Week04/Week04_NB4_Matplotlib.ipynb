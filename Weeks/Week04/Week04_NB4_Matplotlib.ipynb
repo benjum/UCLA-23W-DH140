{
  "cells": [
    {
      "cell_type": "markdown",
      "metadata": {
        "slideshow": {
          "slide_type": "slide"
        }
      },
      "source": "# Matplotlib"
    },
    {
      "cell_type": "markdown",
      "metadata": {
        "slideshow": {
          "slide_type": "slide"
        }
      },
      "source": "https://matplotlib.org/\n\n* \"Matplotlib is a comprehensive library for creating static, animated, and interactive visualizations in Python.\"\n* \"Matplotlib makes easy things easy and hard things possible.\"\n\n* Matplotlib was built on the NumPy and SciPy frameworks and initially made to enable interactive Matlab-like plotting via gnuplot from iPython\n\n* Gained early traction with support from the Space Telescope Institute and JPL\n\n* Easily one of the go-to libraries for academic publishing needs\n  * Create publication-ready graphics in a range of formats\n  * Powerful options to customize all aspects of a figure\n  \n* Matplotlib underlies the plotting capabilities of other libraries such as Pandas, Seaborn, and plotnine"
    },
    {
      "cell_type": "markdown",
      "metadata": {
        "slideshow": {
          "slide_type": "slide"
        }
      },
      "source": "<p style=\"text-align:center;\">\n    <img src=\"https://matplotlib.org/stable/_images/sphx_glr_anatomy_001_2_0x.png\" alt=\"Matplotlib Anatomy of a Figure\" width=\"500\"/>\n</p>\n<a href=\"https://matplotlib.org/stable/gallery/showcase/anatomy.html\">Anatomy of a Figure</a>"
    },
    {
      "cell_type": "markdown",
      "metadata": {},
      "source": "Import the libraries:\n* `matplotlib` for visualization\n* `numpy` for a few simple numerical operations\n  * make an array of numbers with `np.linspace()`\n  * use trig functions with `np.cos()`\n  * access mathematical constants like $\\pi$ (`np.pi`)"
    },
    {
      "cell_type": "code",
      "execution_count": null,
      "metadata": {
        "slideshow": {
          "slide_type": "slide"
        },
        "trusted": true
      },
      "outputs": [],
      "source": "%matplotlib inline\nimport matplotlib.pyplot as plt\nimport numpy as np"
    },
    {
      "cell_type": "code",
      "execution_count": null,
      "metadata": {
        "slideshow": {
          "slide_type": "slide"
        },
        "trusted": true
      },
      "outputs": [],
      "source": "plt.plot([1,2,3,4])"
    },
    {
      "cell_type": "code",
      "execution_count": null,
      "metadata": {
        "slideshow": {
          "slide_type": "slide"
        },
        "trusted": true
      },
      "outputs": [],
      "source": "plt.plot([1,2,3,4]);"
    },
    {
      "cell_type": "code",
      "execution_count": null,
      "metadata": {
        "slideshow": {
          "slide_type": "slide"
        },
        "trusted": true
      },
      "outputs": [],
      "source": "plt.plot([1,2,3,4])\nplt.show()"
    },
    {
      "cell_type": "code",
      "execution_count": null,
      "metadata": {
        "slideshow": {
          "slide_type": "slide"
        },
        "trusted": true
      },
      "outputs": [],
      "source": "plt.plot([1,2,3,4],[2,4,6,8]);"
    },
    {
      "cell_type": "code",
      "execution_count": null,
      "metadata": {
        "slideshow": {
          "slide_type": "slide"
        },
        "trusted": true
      },
      "outputs": [],
      "source": "plt.plot([1,2,3,4],[2,4,6,8],color='green',marker='o',linestyle='');"
    },
    {
      "cell_type": "code",
      "execution_count": null,
      "metadata": {
        "slideshow": {
          "slide_type": "slide"
        },
        "trusted": true
      },
      "outputs": [],
      "source": "# np is our abbrevation for numpy\n# np.linspace(start, end, ntotal) will make an evenly spaced array of numbers\n#     starting with \"start\", going up to and including \"end\", and consisting of \"ntotal\" number of data points\n# np.cos(x) will take the cosine of every element of x and return it as another array\n\nx = np.linspace(0.5, 3.5, 10)\ny = np.cos(x)"
    },
    {
      "cell_type": "code",
      "execution_count": null,
      "metadata": {
        "trusted": true
      },
      "outputs": [],
      "source": "print(x)"
    },
    {
      "cell_type": "code",
      "execution_count": null,
      "metadata": {
        "trusted": true
      },
      "outputs": [],
      "source": "print(y)"
    },
    {
      "cell_type": "code",
      "execution_count": null,
      "metadata": {
        "slideshow": {
          "slide_type": "slide"
        },
        "trusted": true
      },
      "outputs": [],
      "source": "plt.plot(x,y)\nplt.show()"
    },
    {
      "cell_type": "code",
      "execution_count": null,
      "metadata": {
        "slideshow": {
          "slide_type": "slide"
        },
        "trusted": true
      },
      "outputs": [],
      "source": "plt.plot(x,y,'bo')\nplt.show()"
    },
    {
      "cell_type": "code",
      "execution_count": null,
      "metadata": {
        "slideshow": {
          "slide_type": "slide"
        },
        "trusted": true
      },
      "outputs": [],
      "source": "plt.plot(x,y,'bo')\nplt.ylabel('cos(x)')\nplt.show()"
    },
    {
      "cell_type": "markdown",
      "metadata": {},
      "source": "https://matplotlib.org/stable/api/_as_gen/matplotlib.pyplot.plot.html"
    },
    {
      "cell_type": "code",
      "execution_count": null,
      "metadata": {
        "trusted": true
      },
      "outputs": [],
      "source": "x2 = np.linspace(0.5, 3.5, 10)\ny2 = np.cos(2*np.pi/3*(x-0.5))"
    },
    {
      "cell_type": "code",
      "execution_count": null,
      "metadata": {
        "trusted": true
      },
      "outputs": [],
      "source": "plt.plot(x,y,'bo')\nplt.plot(x2,y2,'ks')\nplt.ylabel('cos(x)')\nplt.show()"
    },
    {
      "cell_type": "code",
      "execution_count": null,
      "metadata": {
        "trusted": true
      },
      "outputs": [],
      "source": "plt.plot(x,y,'b')\nplt.plot(x2,y2,'k')\nplt.ylabel('cos(x)')\nplt.show()"
    },
    {
      "cell_type": "code",
      "execution_count": null,
      "metadata": {
        "trusted": true
      },
      "outputs": [],
      "source": "plt.plot(x,y,'b')\nplt.plot(x2,y2,'k')\nplt.ylabel('y')\nplt.xlabel('x')\nplt.show()"
    },
    {
      "cell_type": "code",
      "execution_count": null,
      "metadata": {
        "trusted": true
      },
      "outputs": [],
      "source": "plt.plot(x,y,'b')\nplt.plot(x2,y2,'k')\nplt.ylabel('y',fontsize=16)\nplt.xlabel('x',fontsize=16)\nplt.title('cosines',fontsize=16)\nplt.show()"
    },
    {
      "cell_type": "code",
      "execution_count": null,
      "metadata": {
        "trusted": true
      },
      "outputs": [],
      "source": "plt.plot(x,y,'b')\nplt.plot(x2,y2,'k')\nplt.ylabel('y',fontsize=16)\nplt.xlabel('x',fontsize=16)\nplt.title('cosines',fontsize=16)\n\n# To save the figure in this environment, we're going to save it to \n# your home directory.  Here, that directory is called \"/home/jovyan\"\n# Remember that you cannot create new files directly inside your classwork folder\n\nplt.savefig('/home/jovyan/cosines.png')"
    },
    {
      "cell_type": "code",
      "execution_count": null,
      "metadata": {
        "trusted": true
      },
      "outputs": [],
      "source": "x = np.linspace(0, 2*np.pi, 100)\ny1 = 3 + np.cos(x)\ny2 = 1 + 0.5*np.cos(1+x/0.75)\n\nplt.plot(x, y1, color='green', linestyle='-', linewidth=1)\nplt.plot(x, y2, color='blue', linestyle='-', linewidth=1)\n\nplt.ylim(0,4.5)\nplt.yticks([0, 1, 2, 3, 4], fontsize=14)\n\nplt.xlabel('x', fontsize=16)\nplt.ylabel('y', fontsize=16)\n\nplt.title('sinusoids', fontsize=16)\n\nplt.text(3,0,'addedtext')\n\nplt.annotate('Spine', xy=(6.28, 1.5), xytext=(5.5, 1.0),\n            weight='bold', color='blue',\n            arrowprops=dict(arrowstyle='->',\n                            connectionstyle=\"arc3\",\n                            color='blue'))\n\nplt.show();"
    },
    {
      "cell_type": "markdown",
      "metadata": {},
      "source": "## Exercise:\n\nFollow the instructions in the comments below.  Consult the documentation as needed (https://matplotlib.org/stable/api/_as_gen/matplotlib.pyplot.plot.html)"
    },
    {
      "cell_type": "code",
      "execution_count": null,
      "metadata": {
        "trusted": true
      },
      "outputs": [],
      "source": "x = np.linspace(0, 2*np.pi, 100)\ny1 = 3 + np.cos(x)\ny2 = 1 + 0.5*np.cos(1+x/0.75)\n\n# Make these lines dashed\nplt.plot(x, y1, color='green', linestyle='-', linewidth=1)\nplt.plot(x, y2, color='blue', linestyle='-', linewidth=1)\n\nplt.ylim(0,4.5)\n# Make the x axis range from 0 to 2pi\n\nplt.yticks([0, 1, 2, 3, 4], fontsize=14)\n# Make the xticks at (0, pi, 2pi)\n\nplt.xlabel('x', fontsize=16)\nplt.ylabel('y', fontsize=16)\n\n# Change this title to be \"Anatomy of a figure\"\nplt.title('sinusoids', fontsize=16)\n\n# Shift the following text to be below the title, make it more descriptive, color it blue \nplt.text(3,0,'addedtext')\n\n# Use this annotation command to make another annotation pointing to the green line\nplt.annotate('Spine', xy=(6.28, 1.5), xytext=(5.5, 1.0),\n            weight='bold', color='blue',\n            arrowprops=dict(arrowstyle='->',\n                            connectionstyle=\"arc3\",\n                            color='blue'))\n\nplt.show();"
    },
    {
      "cell_type": "markdown",
      "metadata": {},
      "source": "# pyplot vs figure and axes"
    },
    {
      "cell_type": "code",
      "execution_count": null,
      "metadata": {
        "trusted": true
      },
      "outputs": [],
      "source": "x = np.linspace(0, 2*np.pi, 100)\ny1 = 3 + np.cos(x)\ny2 = 1 + 0.5*np.cos(1+x/0.75)"
    },
    {
      "cell_type": "code",
      "execution_count": null,
      "metadata": {
        "trusted": true
      },
      "outputs": [],
      "source": "plt.plot(x,y1,x,y2)\nplt.show()"
    },
    {
      "cell_type": "code",
      "execution_count": null,
      "metadata": {
        "trusted": true
      },
      "outputs": [],
      "source": "fig = plt.figure()\nax = fig.add_axes([0,0,1,1])\n\nax.plot(x,y1,x,y2)\n\nplt.show()"
    },
    {
      "cell_type": "code",
      "execution_count": null,
      "metadata": {
        "trusted": true
      },
      "outputs": [],
      "source": "fig = plt.figure()\nax = fig.add_subplot(111)\n\nax.plot(x,y1,x,y2)\n\nplt.show()"
    },
    {
      "cell_type": "code",
      "execution_count": null,
      "metadata": {
        "trusted": true
      },
      "outputs": [],
      "source": "fig = plt.figure(figsize=(8,8))\nax = fig.add_subplot(1, 1, 1)\n\nax.plot(x,y1,x,y2)\n\nplt.show()"
    },
    {
      "cell_type": "code",
      "execution_count": null,
      "metadata": {
        "trusted": true
      },
      "outputs": [],
      "source": "fig,ax = plt.subplots(1,1,figsize=(8,8))\n\nax.plot(x,y1,x,y2)\n\nplt.show()"
    },
    {
      "cell_type": "code",
      "execution_count": null,
      "metadata": {
        "trusted": true
      },
      "outputs": [],
      "source": "fig,ax = plt.subplots(2,1,figsize=(8,8))\n\nax[0].plot(x,y1)\nax[1].plot(x,y2)\n\nplt.show()"
    },
    {
      "cell_type": "markdown",
      "metadata": {},
      "source": "## Exercise:\n\nConvert the *Anatomy* figure code (included below) to use figure and axes rather than just `plt`\n\nThe following documentation may be useful: https://matplotlib.org/stable/api/axes_api.html"
    },
    {
      "cell_type": "code",
      "execution_count": null,
      "metadata": {
        "trusted": true
      },
      "outputs": [],
      "source": "x = np.linspace(0, 2*np.pi, 100)\ny1 = 3 + np.cos(x)\ny2 = 1 + 0.5*np.cos(1+x/0.75)\n\n# Make these lines dashed\nplt.plot(x, y1, color='green', linestyle='--', linewidth=1)\nplt.plot(x, y2, color='blue', linestyle='--', linewidth=1)\n\nplt.ylim(0,4.5)\n# Make the x axis range from 0 to 2pi\nplt.xlim(0,2*np.pi)\n\nplt.yticks([0, 1, 2, 3, 4], fontsize=14)\n# Make the xticks at (0, pi, 2pi)\nplt.xticks([0,np.pi,2*np.pi])\n\nplt.xlabel('x', fontsize=16)\nplt.ylabel('y', fontsize=16)\n\n# Change this title to be \"Anatomy of a figure\"\nplt.title('Anatomy of a figure', fontsize=16)\n\n# Shift the following text to be below the title, make it more descriptive, color it blue \nplt.text(3,4.3,'Title',color='blue')\n\n# Use this annotation command to make another annotation pointing to the green line\nplt.annotate('Spine', xy=(6.28, 1.5), xytext=(5.5, 1.0),\n            weight='bold', color='blue',\n            arrowprops=dict(arrowstyle='->',\n                            connectionstyle=\"arc3\",\n                            color='blue'))\nplt.annotate('Green line', xy=(0.8, 3.8), xytext=(1.5, 3.4),\n            weight='bold', color='blue',\n            arrowprops=dict(arrowstyle='->',\n                            connectionstyle=\"arc3\",\n                            color='blue'))\n\nplt.show();"
    },
    {
      "cell_type": "markdown",
      "metadata": {},
      "source": "# Creating different types of plots"
    },
    {
      "cell_type": "code",
      "execution_count": null,
      "metadata": {
        "trusted": true
      },
      "outputs": [],
      "source": "x = np.linspace(0.5, 3.5, 10)\ny = np.cos(x)"
    },
    {
      "cell_type": "code",
      "execution_count": null,
      "metadata": {
        "trusted": true
      },
      "outputs": [],
      "source": "plt.scatter(x,y)\nplt.show()"
    },
    {
      "cell_type": "code",
      "execution_count": null,
      "metadata": {
        "trusted": true
      },
      "outputs": [],
      "source": "plt.bar(x,y)\nplt.show()"
    },
    {
      "cell_type": "code",
      "execution_count": null,
      "metadata": {
        "trusted": true
      },
      "outputs": [],
      "source": "plt.bar(x,y,width=0.2)\nplt.show()"
    },
    {
      "cell_type": "code",
      "execution_count": null,
      "metadata": {
        "trusted": true
      },
      "outputs": [],
      "source": "plt.barh(x,y,height=0.2)\nplt.show()"
    },
    {
      "cell_type": "code",
      "execution_count": null,
      "metadata": {
        "trusted": true
      },
      "outputs": [],
      "source": "x = np.linspace(0, 4*np.pi, 100)\ny = np.linspace(-2, 2, 100)\nXgrid, Ygrid = np.meshgrid(x,y)\n\nf = np.exp(-Ygrid**2) * np.cos(Xgrid)\n\nplt.contourf(f)\n\nplt.show()"
    },
    {
      "cell_type": "code",
      "execution_count": null,
      "metadata": {
        "trusted": true
      },
      "outputs": [],
      "source": "x = np.linspace(0, 4*np.pi, 100)\ny = np.linspace(-2, 2, 100)\nXgrid, Ygrid = np.meshgrid(x,y)\n\nf = np.exp(-Ygrid**2) * np.cos(Xgrid)\n\nplt.contourf(Xgrid, Ygrid, f)\n\nplt.show()"
    },
    {
      "cell_type": "code",
      "execution_count": null,
      "metadata": {
        "trusted": true
      },
      "outputs": [],
      "source": "x = np.linspace(0, 4*np.pi, 100)\ny = np.linspace(-2, 2, 100)\nXgrid, Ygrid = np.meshgrid(x,y)\n\nf = np.exp(-Ygrid**2) * np.cos(Xgrid)\n\nplt.contourf(Xgrid, Ygrid, f)\nax = plt.gca()\nax.set_xticks([0,2*np.pi,4*np.pi])\nax.set_xticklabels(['0','$2\\pi$','$4\\pi$'])\n\nplt.show()"
    },
    {
      "cell_type": "code",
      "execution_count": null,
      "metadata": {
        "trusted": true
      },
      "outputs": [],
      "source": "np.random.seed(19680801)\ndata = np.random.randn(2, 100)\n\nfig, axs = plt.subplots(2, 2, figsize=(6, 6))\naxs[0, 0].hist(data[0])\naxs[1, 0].scatter(data[0], data[1])\naxs[0, 1].plot(data[0], data[1])\naxs[1, 1].hist2d(data[0], data[1])\n\nplt.show()"
    },
    {
      "cell_type": "markdown",
      "metadata": {},
      "source": "## Exercise:"
    },
    {
      "cell_type": "code",
      "execution_count": null,
      "metadata": {
        "trusted": true
      },
      "outputs": [],
      "source": "np.random.seed(19680801)\ndata = np.random.randn(2, 100)\n\nfig, axs = plt.subplots(2, 2, figsize=(6, 6))\n\n# for hist, use the parameters \"width\" and \"bins\" to experiment with different hist plots\naxs[0, 0].hist(data[0])\n\n# give this scatter plot y range of (-3.5,3.5), x range of (-4,4), and make the points green\naxs[1, 0].scatter(data[0], data[1])\n\n# make the lines dotted\naxs[0, 1].plot(data[0], data[1])\n\naxs[1, 1].hist2d(data[0], data[1])\n\nplt.show()"
    }
  ],
  "metadata": {
    "kernelspec": {
      "display_name": "Python 3 (ipykernel)",
      "language": "python",
      "name": "python3"
    },
    "language_info": {
      "codemirror_mode": {
        "name": "ipython",
        "version": 3
      },
      "file_extension": ".py",
      "mimetype": "text/x-python",
      "name": "python",
      "nbconvert_exporter": "python",
      "pygments_lexer": "ipython3",
      "version": "3.10.8"
    },
    "toc": {
      "base_numbering": 1,
      "nav_menu": {},
      "number_sections": true,
      "sideBar": true,
      "skip_h1_title": false,
      "title_cell": "Table of Contents",
      "title_sidebar": "Contents",
      "toc_cell": false,
      "toc_position": {},
      "toc_section_display": true,
      "toc_window_display": false
    }
  },
  "nbformat": 4,
  "nbformat_minor": 4
}