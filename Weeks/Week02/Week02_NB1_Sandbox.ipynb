{
  "cells": [
    {
      "cell_type": "code",
      "execution_count": null,
      "id": "c698b456",
      "metadata": {
        "trusted": true
      },
      "outputs": [],
      "source": "x = 34 - 23           # A comment.\ny = \"Hello\"           # Another one.\nz = 3.45\nif z == 3.45 or y == \"Hello\":\n  x = x + 1\n  y = y + \" World\"    # String concat.\nprint(x)\nprint(y)"
    }
  ],
  "metadata": {
    "kernelspec": {
      "display_name": "Python 3 (ipykernel)",
      "language": "python",
      "name": "python3"
    },
    "language_info": {
      "codemirror_mode": {
        "name": "ipython",
        "version": 3
      },
      "file_extension": ".py",
      "mimetype": "text/x-python",
      "name": "python",
      "nbconvert_exporter": "python",
      "pygments_lexer": "ipython3",
      "version": "3.10.8"
    }
  },
  "nbformat": 4,
  "nbformat_minor": 5
}